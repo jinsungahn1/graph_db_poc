{
 "cells": [
  {
   "metadata": {
    "ExecuteTime": {
     "end_time": "2025-03-24T11:26:59.526573Z",
     "start_time": "2025-03-24T11:26:59.131747Z"
    }
   },
   "cell_type": "code",
   "source": [
    "from langchain_neo4j import Neo4jGraph\n",
    "\n",
    "enhanced_graph = Neo4jGraph(\n",
    "    url=\"neo4j://localhost:7687\",\n",
    "    username=\"neo4j\",\n",
    "    password=\"anatomy-exodus-pigment-colombo-octopus-1216\",\n",
    "    enhanced_schema=True\n",
    ")"
   ],
   "id": "b09cfc10bfc056f9",
   "outputs": [],
   "execution_count": 48
  },
  {
   "metadata": {
    "ExecuteTime": {
     "end_time": "2025-03-24T11:30:44.246590Z",
     "start_time": "2025-03-24T11:30:42.429539Z"
    }
   },
   "cell_type": "code",
   "source": [
    "from langchain_openai import ChatOpenAI\n",
    "from langchain_neo4j import GraphCypherQAChain\n",
    "\n",
    "chain = GraphCypherQAChain.from_llm(\n",
    "    ChatOpenAI(temperature=0),\n",
    "    graph=enhanced_graph,\n",
    "    verbose=True,\n",
    "    allow_dangerous_requests=True\n",
    ")\n",
    "\n",
    "chain.invoke({\"query\": \"요금제 추천해줘\"})"
   ],
   "id": "e258f77e327066ac",
   "outputs": [
    {
     "name": "stdout",
     "output_type": "stream",
     "text": [
      "\n",
      "\n",
      "\u001B[1m> Entering new GraphCypherQAChain chain...\u001B[0m\n",
      "Generated Cypher:\n",
      "\u001B[32;1m\u001B[1;3mMATCH (e1:Entity)-[:요금제]->(e2:Entity)\n",
      "RETURN e1, e2\u001B[0m\n",
      "Full Context:\n",
      "\u001B[32;1m\u001B[1;3m[{'e1': {'label': 'Mobile Phone', 'id': '휴대폰'}, 'e2': {'label': '5G 슬림+', 'id': '5G 슬림+'}}, {'e1': {'label': 'Mobile Phone', 'id': '휴대폰'}, 'e2': {'id': '5G 다이렉트 65', 'label': '5G 다이렉트 65'}}, {'e1': {'label': 'Mobile Phone', 'id': '휴대폰'}, 'e2': {'id': '5G 프리미어 에센셜', 'label': '5G 프리미어 에센셜'}}]\u001B[0m\n",
      "\n",
      "\u001B[1m> Finished chain.\u001B[0m\n"
     ]
    },
    {
     "data": {
      "text/plain": [
       "{'query': '요금제 추천해줘',\n",
       " 'result': '휴대폰 5G 슬림+, 5G 다이렉트 65, 5G 프리미어 에센셜 중에서 선택하실 수 있습니다.'}"
      ]
     },
     "execution_count": 50,
     "metadata": {},
     "output_type": "execute_result"
    }
   ],
   "execution_count": 50
  },
  {
   "metadata": {},
   "cell_type": "code",
   "outputs": [],
   "execution_count": null,
   "source": "",
   "id": "15197ae6d51028fd"
  }
 ],
 "metadata": {
  "kernelspec": {
   "display_name": "Python 3",
   "language": "python",
   "name": "python3"
  },
  "language_info": {
   "codemirror_mode": {
    "name": "ipython",
    "version": 2
   },
   "file_extension": ".py",
   "mimetype": "text/x-python",
   "name": "python",
   "nbconvert_exporter": "python",
   "pygments_lexer": "ipython2",
   "version": "2.7.6"
  }
 },
 "nbformat": 4,
 "nbformat_minor": 5
}
