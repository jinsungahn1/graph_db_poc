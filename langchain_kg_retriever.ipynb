{
 "cells": [
  {
   "metadata": {
    "ExecuteTime": {
     "end_time": "2025-03-26T23:51:32.468398Z",
     "start_time": "2025-03-26T23:51:32.331845Z"
    }
   },
   "cell_type": "code",
   "source": [
    "from langchain_neo4j import Neo4jGraph\n",
    "\n",
    "enhanced_graph = Neo4jGraph(\n",
    "    url=\"neo4j://localhost:7687\",\n",
    "    username=\"neo4j\",\n",
    "    password=\"anatomy-exodus-pigment-colombo-octopus-1216\",\n",
    "    enhanced_schema=True\n",
    ")"
   ],
   "id": "b09cfc10bfc056f9",
   "outputs": [],
   "execution_count": 5
  },
  {
   "metadata": {
    "ExecuteTime": {
     "end_time": "2025-03-27T03:16:35.082120Z",
     "start_time": "2025-03-27T03:16:31.012739Z"
    }
   },
   "cell_type": "code",
   "source": [
    "from langchain_openai import ChatOpenAI\n",
    "from langchain_neo4j import GraphCypherQAChain\n",
    "\n",
    "chain = GraphCypherQAChain.from_llm(\n",
    "    ChatOpenAI(model=\"gpt-4o\", temperature=0),\n",
    "    graph=enhanced_graph,\n",
    "    verbose=True,\n",
    "    allow_dangerous_requests=True\n",
    ")\n",
    "\n",
    "chain.invoke({\"query\": \"가족과 관련된 컨텐츠를 찾아줘. 가족과 함께 보기 좋은 컨텐츠 찾아줘.\"})"
   ],
   "id": "e258f77e327066ac",
   "outputs": [
    {
     "name": "stdout",
     "output_type": "stream",
     "text": [
      "\n",
      "\n",
      "\u001B[1m> Entering new GraphCypherQAChain chain...\u001B[0m\n",
      "Generated Cypher:\n",
      "\u001B[32;1m\u001B[1;3mcypher\n",
      "MATCH (c:Content)-[:HAS_RECOMMEND_TAG]->(rt:RecommendTag)\n",
      "WHERE rt.name CONTAINS \"가족\"\n",
      "RETURN c\n",
      "\u001B[0m\n",
      "Full Context:\n",
      "\u001B[32;1m\u001B[1;3m[{'c': {'contract_types': '[]', 'end_at': '2999-12-30 15:00:00.000000', 'displayable_platform': '[]', 'iptv_thumbnail_url': 'https://cdn-cms.i-nara.co.kr/contents/3852/thumbnails/iptv/20240115070606/M0119A8382PPV00SH110.png', 'created_at': '2022-04-08 15:39:28.064650', 'description': '전 세계 52개국 박스오피스 1위의 흥행 애니메이션이 돌아왔다! 어제는 적! 오늘은 친구? 아슬아슬한 팀플레이가 시작된다! <드래곤 길들이기>, <아이스 에이지>, <슈퍼배드> 실력파 제작진의 귀환! 호시탐탐 알을 탐내는 식신돼마왕 레너드를 물리치고 아싸에서 인싸가 된 버드랜드의 악동 히어로 레드. 평생 앙숙인 이들에게 공공의 적이 나타났다! 얼음 공격을 퍼붓는 이글랜드의 예민 보스 제타에 맞서기 위해 한 팀으로 뭉친 그들! 과연 이들의 연합 작전은 성공할 수 있을까?', 'start_at': '2019-10-23 15:00:00.000000', 'thumbnail_url': 'https://cdn-cms.i-nara.co.kr/contents/3852/thumbnails/M0119A8382PPV00MD110.png', 'type': 'VIDEO', 'recommend_age': '[0, 1, 2, 3, 4, 5, 6, 7, 8, 9, 10, 11]', 'provider': '', 'content_provider_id': '158', 'billing_type': 'FREE', 'thumbnail_file_size': '94930', 'modified_at': '2025-03-19 05:26:46.838156', 'resource_prepared_platform': '[\"AOS\", \"IOS\", \"IPTV\"]', 'recommend_tag': '[\"3D 애니메이션\", \"가족\", \"가족 소재의 애니메이션\", \"가족 소재의 코미디 영화\", \"게임원작\", \"관람객 극찬\", \"귀여운\", \"극장 상영 어린이 애니메이션\", \"극장개봉영화\", \"극장판 애니메이션\", \"극장판 키즈애니\", \"동물\", \"동물 애니메이션\", \"동물 코미디\", \"동물(키즈)\", \"동물간\", \"동물이 나오는 만화\", \"리메이크\", \"섬\", \"속편영화\", \"신나고 즐거운\", \"아동 애니메이션\", \"아이들을 위한 애니메이션\", \"애니메이션\", \"어린이\", \"연합/협동\", \"의인화\", \"의인화 동물\", \"코미디\", \"코미디 극장판 키즈애니\", \"코믹 애니메이션\", \"키즈 코미디\", \"한국어(더빙)\", \"흡혈 공포 2\"]', 'newly_received_at': '2022-04-08 15:39:28.064650', 'content_id': '3852', 'origin_server_type': 'BPAS', 'account_group_id': '0', 'created_by': 'System', 'voice_actor': '유재석', 'modified_by': 'System', 'name': '[우리말]앵그리 버드 2: 독수리 왕국의 침공', 'writer': '서럽 밴 오먼', 'strengthening_capacity_types': '[]', 'channel_id': '34', 'iptv_billing_type': 'PAID', 'illustrator': '서럽 밴 오먼', 'status': 'INACTIVE'}}, {'c': {'contract_types': '[]', 'end_at': '2999-12-30 15:00:00.000000', 'displayable_platform': '[]', 'iptv_thumbnail_url': 'https://cdn-cms.i-nara.co.kr/contents/6909/thumbnails/iptv/20240116003946/M01204G172PPV00SH110.png', 'created_at': '2022-04-08 15:39:28.064650', 'description': '노래와 춤을 즐기며 평화로운 나날을 보내던 팝 트롤 ‘파피’와 ‘브랜치’ 그리고 친구들.  어느 날 파피는 자신들 외에도 서로 다른 외모와 노래를 가진 5개의 트롤 마을이 더 있다는 것을 알게 된다. 모두와 친구가 되어 신나게 지내고 싶은 파피와 달리, 록 트롤 마을의 여왕 바브는 록을 제외한 모든 음악을 없애기 위해 다른 트롤 마을들을 하나씩 파괴하기 시작한다. 파피는 위기에 빠진 트롤 세계를 구하기 위해 친구들과 위험천만한 모험을 떠나게 된다.', 'start_at': '2020-04-15 15:00:00.000000', 'thumbnail_url': 'https://cdn-cms.i-nara.co.kr/contents/6909/thumbnails/M01204G172PPV00MD110.png', 'type': 'VIDEO', 'recommend_age': '[0, 1, 2, 3, 4, 5, 6, 7, 8, 9, 10, 11]', 'provider': '', 'billing_type': 'FREE', 'thumbnail_file_size': '109956', 'modified_at': '2024-10-18 04:09:09.617328', 'resource_prepared_platform': '[\"AOS\", \"IOS\", \"IPTV\"]', 'recommend_tag': '[\"3D 애니메이션\", \"가족\", \"가족 모험\", \"가족 소재의 애니메이션\", \"가족 소재의 코미디 영화\", \"관람객 극찬\", \"귀여운\", \"극장 상영 어린이 애니메이션\", \"극장개봉영화\", \"극장판 애니메이션\", \"극장판 키즈애니\", \"기분이 좋아지는\", \"드림웍스\", \"모험\", \"모험 만화\", \"모험 애니메이션\", \"모험 코미디\", \"모험/환상\", \"뮤지컬\", \"속편영화\", \"스타 더빙\", \"시청 인기\", \"신나고 즐거운\", \"아이들을 위한 애니메이션\", \"애니메이션\", \"어린이\", \"요정\", \"음악\", \"코미디\", \"코미디 극장판 키즈애니\", \"코믹 애니메이션\", \"키즈 모험\", \"키즈 코미디\", \"탁월한 OST\", \"한국어(더빙)\", \"흡혈 공포 2\"]', 'newly_received_at': '2022-04-08 15:39:28.064650', 'content_id': '6909', 'origin_server_type': 'BPAS', 'account_group_id': '0', 'created_by': 'System', 'voice_actor': '웬디, 로운', 'modified_by': 'System', 'name': '[우리말]트롤: 월드 투어', 'writer': '월트 도른', 'strengthening_capacity_types': '[]', 'channel_id': '34', 'iptv_billing_type': 'PAID', 'illustrator': '월트 도른', 'status': 'INACTIVE'}}, {'c': {'contract_types': '[]', 'end_at': '2999-12-30 15:00:00.000000', 'displayable_platform': '[\"AOS\", \"IOS\", \"IPTV\"]', 'iptv_thumbnail_url': 'https://cdn-cms.i-nara.co.kr/contents/50993/thumbnails/iptv/20240116010118/M0122BH311PPV00_R_160449.jpg', 'created_at': '2022-11-24 13:57:50.095156', 'description': '코코멜론 친구들과 함께 노래를 부르며 피자를 만들어요.', 'start_at': '2022-11-16 15:00:00.000000', 'type': 'VIDEO', 'thumbnail_url': 'https://cdn-cms.i-nara.co.kr/contents/0/thumbnails/M0122BH311PPV00M6110.png', 'recommend_age': '[0, 1, 2, 3, 4, 5, 6, 7, 8, 9, 10, 11]', 'provider': 'moonbug', 'billing_type': 'PAID', 'thumbnail_file_size': '84485', 'modified_at': '2024-07-24 00:11:23.432416', 'resource_prepared_platform': '[\"AOS\", \"IOS\", \"IPTV\"]', 'recommend_tag': '[\"가족\", \"건강과 안전\", \"나와 가족\", \"동식물과 자연\", \"만들기\", \"모양\", \"모양\", \"생활도구\", \"생활용품(학용품, 장난감, 도구, 물건, 가구, 가전제품)\", \"세계 여러 나라의 문화\", \"식물\", \"영어유치원\", \"원하는 것 묻고 답하기\", \"음식\", \"음식과 요리\", \"음악\", \"음악지능\", \"제안이나 권유하기\", \"지시하기\", \"집 안\", \"채소\", \"콘텐츠(Content)\", \"협동성\", \"협력(Collaboration)\"]', 'newly_received_at': '2022-11-24 13:57:50.095156', 'content_id': '50993', 'origin_server_type': 'BPAS', 'account_group_id': '0', 'created_by': 'System', 'search_tag': '[\"영어\", \"놀이\", \"동요\"]', 'voice_actor': '', 'modified_by': 'System', 'name': 'Pizza Song', 'writer': '', 'strengthening_capacity_types': '[\"COLLABORATION\", \"KNOWLEDGE_AND_UNDERSTANDING\"]', 'channel_id': '34', 'iptv_billing_type': 'FREE', 'illustrator': '', 'status': 'ACTIVE'}}, {'c': {'contract_types': '[]', 'end_at': '2999-12-30 15:00:00.000000', 'displayable_platform': '[\"AOS\", \"IOS\", \"IPTV\"]', 'iptv_thumbnail_url': 'https://cdn-cms.i-nara.co.kr/contents/54525/thumbnails/iptv/20240116010203/M0122BO123PPV00_R_162046.jpg', 'created_at': '2022-11-29 09:03:55.995527', 'description': '아기JJ와 가족들이 눈 속에서 숨바꼭질 놀이를 해요. 숨바꼭질을 하며 `징글벨` 노래도 따라불러요.', 'start_at': '2022-11-23 15:00:00.000000', 'thumbnail_url': 'https://cdn-cms.i-nara.co.kr/contents/0/thumbnails/M0122BO123PPV00M6110.png', 'type': 'VIDEO', 'recommend_age': '[0, 1, 2, 3, 4, 5, 6, 7, 8, 9, 10, 11]', 'provider': 'moonbug', 'billing_type': 'PAID', 'thumbnail_file_size': '83673', 'modified_at': '2024-07-24 00:11:45.754694', 'resource_prepared_platform': '[\"AOS\", \"IOS\", \"IPTV\"]', 'recommend_tag': '[\"감정\", \"건강과 안전\", \"게임\", \"계절과 날씨\", \"계절과 활동\", \"교통기관\", \"교통수단\", \"기분과 감정\", \"길, 장소, 위치 묻고 답하기\", \"나와 가족\", \"날씨\", \"동물\", \"동물\", \"동식물과 자연\", \"봄, 여름, 가을, 겨울\", \"수량\", \"수학 지능\", \"숫자와 나이\", \"시각공간지능\", \"시간\", \"시간\", \"신체부위\", \"신체운동지능\", \"영어유치원\", \"위치\", \"음악\", \"음악지능\", \"주의 끌기\", \"지시하기\", \"취미, 여가활동\", \"현명함\", \"협동성\", \"협력(Collaboration)\", \"호기심\"]', 'newly_received_at': '2022-11-29 09:03:55.995527', 'content_id': '54525', 'origin_server_type': 'BPAS', 'account_group_id': '0', 'created_by': 'System', 'search_tag': '[\"영어\", \"놀이\", \"동요\"]', 'voice_actor': '', 'modified_by': 'System', 'name': 'Hide and Go Seek in the Snow (Jingle Bells)', 'writer': '', 'strengthening_capacity_types': '[\"COLLABORATION\"]', 'channel_id': '34', 'iptv_billing_type': 'FREE', 'illustrator': '', 'status': 'ACTIVE'}}, {'c': {'contract_types': '[]', 'end_at': '2999-12-30 15:00:00.000000', 'displayable_platform': '[\"AOS\", \"IOS\", \"IPTV\"]', 'iptv_thumbnail_url': 'https://cdn-cms.i-nara.co.kr/contents/12938/thumbnails/iptv/20240116010151/M0122BN562PPV00_R_133007.jpg', 'created_at': '2022-11-28 09:35:59.907590', 'description': '코디의 엄마는 의사 선생님이에요. 의사 선생님을 만나 건강한지 확인해 봐요.', 'start_at': '2022-11-22 15:00:00.000000', 'thumbnail_url': 'https://cdn-cms.i-nara.co.kr/contents/0/thumbnails/M0122BN562PPV00M6110.png', 'type': 'VIDEO', 'recommend_age': '[0, 1, 2, 3, 4, 5, 6, 7, 8, 9, 10, 11]', 'provider': 'moonbug', 'billing_type': 'PAID', 'thumbnail_file_size': '95262', 'modified_at': '2024-07-24 00:11:39.910743', 'resource_prepared_platform': '[\"AOS\", \"IOS\", \"IPTV\"]', 'recommend_tag': '[\"가족\", \"감정\", \"건강/질병\", \"건강/질병과 생리현상\", \"건강과 안전\", \"기분과 감정\", \"나와 가족\", \"미래에 할 일 묻고 답하기\", \"생활용품(학용품, 장난감, 도구, 물건, 가구, 가전제품)\", \"소개하기\", \"습관\", \"시간\", \"시간\", \"신체부위\", \"영어유치원\", \"우리 동네\", \"유치원/어린이집과 친구\", \"음악\", \"음악지능\", \"인사하기\", \"인지\", \"직업\", \"직업 묻고 답하기\", \"친절\", \"콘텐츠(Content)\"]', 'newly_received_at': '2022-11-28 09:35:59.907590', 'content_id': '12938', 'origin_server_type': 'BPAS', 'account_group_id': '0', 'created_by': 'System', 'search_tag': '[\"영어\", \"놀이\", \"동요\"]', 'voice_actor': '', 'modified_by': 'System', 'name': 'Doctor Checkup Song (School Version)', 'writer': '', 'strengthening_capacity_types': '[\"KNOWLEDGE_AND_UNDERSTANDING\"]', 'channel_id': '34', 'iptv_billing_type': 'FREE', 'illustrator': '', 'status': 'ACTIVE'}}, {'c': {'contract_types': '[]', 'end_at': '2999-12-30 15:00:00.000000', 'displayable_platform': '[\"AOS\", \"IOS\", \"IPTV\"]', 'iptv_thumbnail_url': 'https://cdn-cms.i-nara.co.kr/contents/54766/thumbnails/iptv/20240116010206/M0122BO129PPV00_R_152740.jpg', 'created_at': '2022-11-30 09:39:24.505223', 'description': '요요가 보조 바퀴를 빼고 자전거 타는 방법을 배워요. 이제 친구들과 나란히 자전거를 탈 수 있어요.', 'start_at': '2022-11-23 15:00:00.000000', 'type': 'VIDEO', 'thumbnail_url': 'https://cdn-cms.i-nara.co.kr/contents/0/thumbnails/M0122BO129PPV00M6110.png', 'recommend_age': '[0, 1, 2, 3, 4, 5, 6, 7, 8, 9, 10, 11]', 'provider': 'moonbug', 'billing_type': 'PAID', 'thumbnail_file_size': '95046', 'modified_at': '2024-07-24 00:11:47.198693', 'resource_prepared_platform': '[\"AOS\", \"IOS\", \"IPTV\"]', 'recommend_tag': '[\"감정\", \"건강과 안전\", \"격려하기\", \"교통기관\", \"교통수단\", \"기분과 감정\", \"길, 장소, 위치 묻고 답하기\", \"나와 가족\", \"능력 여부 묻고 답하기\", \"미래에 할 일 묻고 답하기\", \"비교하기\", \"사람들\", \"성격\", \"성격\", \"스포츠\", \"시간\", \"시간\", \"신체부위\", \"신체운동지능\", \"영어유치원\", \"용감함\", \"위치\", \"음악\", \"음악지능\", \"의류\", \"의복과 옷차림\", \"자신감(Confidence)\", \"주의 끌기\", \"지시하기\"]', 'newly_received_at': '2022-11-30 09:39:24.505223', 'content_id': '54766', 'origin_server_type': 'BPAS', 'account_group_id': '0', 'created_by': 'System', 'search_tag': '[\"영어\", \"놀이\", \"동요\"]', 'voice_actor': '', 'modified_by': 'System', 'name': 'You Can Ride a Bike', 'writer': '', 'strengthening_capacity_types': '[\"CONFIDENCE\"]', 'channel_id': '34', 'iptv_billing_type': 'FREE', 'illustrator': '', 'status': 'ACTIVE'}}, {'c': {'contract_types': '[]', 'end_at': '2999-12-30 15:00:00.000000', 'displayable_platform': '[\"AOS\", \"IOS\", \"IPTV\"]', 'iptv_thumbnail_url': 'https://cdn-cms.i-nara.co.kr/contents/46841/thumbnails/iptv/20240116010152/M0122BN564PPV00_R_133007.jpg', 'created_at': '2022-11-28 09:35:59.814049', 'description': '지구를 돕기 위해 어떤 일을 할 수 있을까요? 노래를 부르며 지구를 위한 일을 찾아요.', 'start_at': '2022-11-22 15:00:00.000000', 'thumbnail_url': 'https://cdn-cms.i-nara.co.kr/contents/0/thumbnails/M0122BN564PPV00M6110.png', 'type': 'VIDEO', 'recommend_age': '[0, 1, 2, 3, 4, 5, 6, 7, 8, 9, 10, 11]', 'provider': 'moonbug', 'billing_type': 'PAID', 'thumbnail_file_size': '95262', 'modified_at': '2024-07-24 00:11:40.169907', 'resource_prepared_platform': '[\"AOS\", \"IOS\", \"IPTV\"]', 'recommend_tag': '[\"나와 가족\", \"동물\", \"동물\", \"동의/부인/이의 제기하기\", \"물과 토양\", \"생활도구\", \"생활용품(학용품, 장난감, 도구, 물건, 가구, 가전제품)\", \"수량\", \"숫자와 나이\", \"습관\", \"시간\", \"시간\", \"식물\", \"영어유치원\", \"우주와 태양계\", \"원하는 것 묻고 답하기\", \"음악\", \"음악지능\", \"인지\", \"일상생활:아침, 점심, 저녁에 하는 일\", \"제안이나 권유하기\", \"좋아하는 것과 싫어하는 것\", \"주의 끌기\", \"집안일\", \"칭찬과 잔소리\", \"칭찬하기\", \"콘텐츠(Content)\", \"하루 일과\", \"협동성\", \"협력(Collaboration)\", \"환경\", \"환경 문제\", \"환경과 생활\"]', 'newly_received_at': '2022-11-28 09:35:59.814049', 'content_id': '46841', 'origin_server_type': 'BPAS', 'account_group_id': '0', 'created_by': 'System', 'search_tag': '[\"영어\", \"놀이\", \"동요\"]', 'voice_actor': '', 'modified_by': 'System', 'name': 'Yes Yes Save the Earth Song', 'writer': '', 'strengthening_capacity_types': '[\"COLLABORATION\", \"KNOWLEDGE_AND_UNDERSTANDING\"]', 'channel_id': '34', 'iptv_billing_type': 'FREE', 'illustrator': '', 'status': 'ACTIVE'}}, {'c': {'contract_types': '[]', 'end_at': '2999-12-30 15:00:00.000000', 'displayable_platform': '[\"AOS\", \"IOS\", \"IPTV\"]', 'iptv_thumbnail_url': 'https://cdn-cms.i-nara.co.kr/contents/27695/thumbnails/iptv/20240116010113/M0122BH269PPV00_R_102508.jpg', 'created_at': '2022-11-24 13:57:51.949692', 'description': '코코멜론 친구들과 함께 항상 사랑해 주고 돌봐주는 엄마에게 감사한 마음을 전해요.', 'start_at': '2022-11-16 15:00:00.000000', 'type': 'VIDEO', 'thumbnail_url': 'https://cdn-cms.i-nara.co.kr/contents/0/thumbnails/M0122BH269PPV00M6110.png', 'recommend_age': '[0, 1, 2, 3, 4, 5, 6, 7, 8, 9, 10, 11]', 'provider': 'moonbug', 'billing_type': 'PAID', 'thumbnail_file_size': '67419', 'modified_at': '2024-07-24 00:11:20.989052', 'resource_prepared_platform': '[\"AOS\", \"IOS\", \"IPTV\"]', 'recommend_tag': '[\"가족\", \"감정\", \"건강/질병\", \"건강/질병과 생리현상\", \"건강과 안전\", \"게임\", \"기분과 감정\", \"나와 가족\", \"대인관계지능\", \"사랑\", \"성격\", \"성격\", \"영어유치원\", \"음식\", \"음식과 요리\", \"음악\", \"음악지능\", \"좋아하는 것과 싫어하는 것\", \"취미\", \"취미, 여가활동\", \"칭찬하기\", \"협력(Collaboration)\", \"확인 요청하기\"]', 'newly_received_at': '2022-11-24 13:57:51.949692', 'content_id': '27695', 'origin_server_type': 'BPAS', 'account_group_id': '0', 'created_by': 'System', 'search_tag': '[\"영어\", \"놀이\", \"동요\"]', 'voice_actor': '', 'modified_by': 'System', 'name': 'My Mommy Song', 'writer': '', 'strengthening_capacity_types': '[\"COLLABORATION\"]', 'channel_id': '34', 'iptv_billing_type': 'FREE', 'illustrator': '', 'status': 'ACTIVE'}}, {'c': {'contract_types': '[]', 'end_at': '2999-12-30 15:00:00.000000', 'displayable_platform': '[\"AOS\", \"IOS\", \"IPTV\"]', 'iptv_thumbnail_url': 'https://cdn-cms.i-nara.co.kr/contents/51012/thumbnails/iptv/20240116010112/M0122BH268PPV00_R_102508.jpg', 'created_at': '2022-11-24 13:57:51.997468', 'description': '코코멜론 친구들이 운동회를 해요. 오렌지팀과 사과팀 중 누가 우승할까요? 우승팀을 위해 응원해요.', 'start_at': '2022-11-16 15:00:00.000000', 'type': 'VIDEO', 'thumbnail_url': 'https://cdn-cms.i-nara.co.kr/contents/0/thumbnails/M0122BH268PPV00M6110.png', 'recommend_age': '[0, 1, 2, 3, 4, 5, 6, 7, 8, 9, 10, 11]', 'provider': 'moonbug', 'billing_type': 'PAID', 'thumbnail_file_size': '67419', 'modified_at': '2024-07-24 00:11:20.876065', 'resource_prepared_platform': '[\"AOS\", \"IOS\", \"IPTV\"]', 'recommend_tag': '[\"가족\", \"감정\", \"건강과 안전\", \"기분과 감정\", \"나와 가족\", \"대인관계지능\", \"미래에 할 일 묻고 답하기\", \"생활용품(학용품, 장난감, 도구, 물건, 가구, 가전제품)\", \"스포츠\", \"영어유치원\", \"유치원/어린이집과 친구\", \"음악\", \"음악지능\", \"의류\", \"의복과 옷차림\", \"장난감\", \"장소\", \"제안이나 권유하기\", \"지시하기\", \"채소\", \"취미, 여가활동\", \"협동성\", \"협력(Collaboration)\"]', 'newly_received_at': '2022-11-24 13:57:51.997468', 'content_id': '51012', 'origin_server_type': 'BPAS', 'account_group_id': '0', 'created_by': 'System', 'search_tag': '[\"영어\", \"놀이\", \"동요\"]', 'voice_actor': '', 'modified_by': 'System', 'name': 'Field Day Song', 'writer': '', 'strengthening_capacity_types': '[\"COLLABORATION\"]', 'channel_id': '34', 'iptv_billing_type': 'FREE', 'illustrator': '', 'status': 'ACTIVE'}}, {'c': {'contract_types': '[]', 'end_at': '2999-12-30 15:00:00.000000', 'displayable_platform': '[\"AOS\", \"IOS\", \"IPTV\"]', 'iptv_thumbnail_url': 'https://cdn-cms.i-nara.co.kr/contents/27466/thumbnails/iptv/20240116010113/M0122BH270PPV00_R_102508.jpg', 'created_at': '2022-11-24 13:57:51.901048', 'description': '코코멜론 친구들과 함께 할머니에게 사랑하는 마음을 전해요.', 'start_at': '2022-11-16 15:00:00.000000', 'thumbnail_url': 'https://cdn-cms.i-nara.co.kr/contents/0/thumbnails/M0122BH270PPV00M6110.png', 'type': 'VIDEO', 'recommend_age': '[0, 1, 2, 3, 4, 5, 6, 7, 8, 9, 10, 11]', 'provider': 'moonbug', 'billing_type': 'PAID', 'thumbnail_file_size': '67419', 'modified_at': '2024-07-24 00:11:21.100585', 'resource_prepared_platform': '[\"AOS\", \"IOS\", \"IPTV\"]', 'recommend_tag': '[\"가족\", \"감정\", \"건강과 안전\", \"게임\", \"기분과 감정\", \"나와 가족\", \"대인관계지능\", \"사랑\", \"세계 여러 나라의 문화\", \"영어유치원\", \"음악\", \"음악지능\", \"좋아하는 것과 싫어하는 것\", \"취미\", \"취미, 여가활동\", \"협동성\", \"협력(Collaboration)\"]', 'newly_received_at': '2022-11-24 13:57:51.901048', 'content_id': '27466', 'origin_server_type': 'BPAS', 'account_group_id': '0', 'created_by': 'System', 'search_tag': '[\"영어\", \"놀이\", \"동요\"]', 'voice_actor': '', 'modified_by': 'System', 'name': 'Abuela Song / I Love My Grandma', 'writer': '', 'strengthening_capacity_types': '[\"COLLABORATION\"]', 'channel_id': '34', 'iptv_billing_type': 'FREE', 'illustrator': '', 'status': 'ACTIVE'}}]\u001B[0m\n",
      "\n",
      "\u001B[1m> Finished chain.\u001B[0m\n"
     ]
    },
    {
     "data": {
      "text/plain": [
       "{'query': '가족과 관련된 컨텐츠를 찾아줘. 가족과 함께 보기 좋은 컨텐츠 찾아줘.',\n",
       " 'result': \"Here are some family-related contents that are suitable for watching together:\\n\\n1. [우리말]앵그리 버드 2: 독수리 왕국의 침공 - A thrilling animation about teamwork and adventure.\\n2. [우리말]트롤: 월드 투어 - A musical adventure with Poppy and Branch discovering new troll villages.\\n3. Pizza Song - Sing along with Cocomelon friends while making pizza.\\n4. Hide and Go Seek in the Snow (Jingle Bells) - Play hide and seek in the snow with Baby JJ and family.\\n5. Doctor Checkup Song (School Version) - Learn about health checkups with Cody's mom, the doctor.\\n6. You Can Ride a Bike - Learn to ride a bike without training wheels with YoYo.\\n7. Yes Yes Save the Earth Song - Discover ways to help the Earth through song.\\n8. My Mommy Song - Express gratitude to moms with Cocomelon friends.\\n9. Field Day Song - Cheer for the Orange and Apple teams during a sports day.\\n10. Abuela Song / I Love My Grandma - Share love with grandma with Cocomelon friends.\"}"
      ]
     },
     "execution_count": 14,
     "metadata": {},
     "output_type": "execute_result"
    }
   ],
   "execution_count": 14
  },
  {
   "metadata": {},
   "cell_type": "code",
   "outputs": [],
   "execution_count": null,
   "source": "",
   "id": "15197ae6d51028fd"
  }
 ],
 "metadata": {
  "kernelspec": {
   "display_name": "Python 3",
   "language": "python",
   "name": "python3"
  },
  "language_info": {
   "codemirror_mode": {
    "name": "ipython",
    "version": 2
   },
   "file_extension": ".py",
   "mimetype": "text/x-python",
   "name": "python",
   "nbconvert_exporter": "python",
   "pygments_lexer": "ipython2",
   "version": "2.7.6"
  }
 },
 "nbformat": 4,
 "nbformat_minor": 5
}
