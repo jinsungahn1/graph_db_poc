{
 "cells": [
  {
   "metadata": {},
   "cell_type": "markdown",
   "source": "https://neo4j.com/docs/graph-data-science/current/getting-started/fastrp-knn-example/",
   "id": "41a2dbda65f673d7"
  },
  {
   "metadata": {
    "ExecuteTime": {
     "end_time": "2025-03-23T18:34:51.922997Z",
     "start_time": "2025-03-23T18:34:51.920110Z"
    }
   },
   "cell_type": "code",
   "source": [
    "NEO4J_URI = \"neo4j://localhost:7687\"\n",
    "NEO4J_USERNAME = \"neo4j\"\n",
    "NEO4J_PASSWORD = \"anatomy-exodus-pigment-colombo-octopus-1216\""
   ],
   "id": "2d29f32d45fa76f1",
   "outputs": [],
   "execution_count": 16
  },
  {
   "metadata": {
    "ExecuteTime": {
     "end_time": "2025-03-23T18:34:52.380963Z",
     "start_time": "2025-03-23T18:34:52.378430Z"
    }
   },
   "cell_type": "code",
   "source": [
    "# Neo4j Driver\n",
    "import neo4j\n",
    "\n",
    "neo4j_driver = neo4j.GraphDatabase.driver(\n",
    "    NEO4J_URI,\n",
    "    auth=(NEO4J_USERNAME, NEO4J_PASSWORD)\n",
    ")"
   ],
   "id": "6b9b049c0a1a535c",
   "outputs": [],
   "execution_count": 17
  },
  {
   "metadata": {
    "ExecuteTime": {
     "end_time": "2025-03-23T18:34:55.342827Z",
     "start_time": "2025-03-23T18:34:53.027047Z"
    }
   },
   "cell_type": "code",
   "source": [
    "neo4j_driver.execute_query(query_=\"\"\"\n",
    "CREATE\n",
    "  (dan:Person {name: 'Dan'}),\n",
    "  (annie:Person {name: 'Annie'}),\n",
    "  (matt:Person {name: 'Matt'}),\n",
    "  (jeff:Person {name: 'Jeff'}),\n",
    "  (brie:Person {name: 'Brie'}),\n",
    "  (elsa:Person {name: 'Elsa'}),\n",
    "\n",
    "  (cookies:Product {name: 'Cookies'}),\n",
    "  (tomatoes:Product {name: 'Tomatoes'}),\n",
    "  (cucumber:Product {name: 'Cucumber'}),\n",
    "  (celery:Product {name: 'Celery'}),\n",
    "  (kale:Product {name: 'Kale'}),\n",
    "  (milk:Product {name: 'Milk'}),\n",
    "  (chocolate:Product {name: 'Chocolate'}),\n",
    "\n",
    "  (dan)-[:BUYS {amount: 1.2}]->(cookies),\n",
    "  (dan)-[:BUYS {amount: 3.2}]->(milk),\n",
    "  (dan)-[:BUYS {amount: 2.2}]->(chocolate),\n",
    "\n",
    "  (annie)-[:BUYS {amount: 1.2}]->(cucumber),\n",
    "  (annie)-[:BUYS {amount: 3.2}]->(milk),\n",
    "  (annie)-[:BUYS {amount: 3.2}]->(tomatoes),\n",
    "\n",
    "  (matt)-[:BUYS {amount: 3}]->(tomatoes),\n",
    "  (matt)-[:BUYS {amount: 2}]->(kale),\n",
    "  (matt)-[:BUYS {amount: 1}]->(cucumber),\n",
    "\n",
    "  (jeff)-[:BUYS {amount: 3}]->(cookies),\n",
    "  (jeff)-[:BUYS {amount: 2}]->(milk),\n",
    "\n",
    "  (brie)-[:BUYS {amount: 1}]->(tomatoes),\n",
    "  (brie)-[:BUYS {amount: 2}]->(milk),\n",
    "  (brie)-[:BUYS {amount: 2}]->(kale),\n",
    "  (brie)-[:BUYS {amount: 3}]->(cucumber),\n",
    "  (brie)-[:BUYS {amount: 0.3}]->(celery),\n",
    "\n",
    "  (elsa)-[:BUYS {amount: 3}]->(chocolate),\n",
    "  (elsa)-[:BUYS {amount: 3}]->(milk)\n",
    "\"\"\")"
   ],
   "id": "1346773a6ca24cf9",
   "outputs": [
    {
     "data": {
      "text/plain": [
       "EagerResult(records=[], summary=<neo4j._work.summary.ResultSummary object at 0x174575fd0>, keys=[])"
      ]
     },
     "execution_count": 18,
     "metadata": {},
     "output_type": "execute_result"
    }
   ],
   "execution_count": 18
  },
  {
   "metadata": {
    "ExecuteTime": {
     "end_time": "2025-03-23T18:34:57.400825Z",
     "start_time": "2025-03-23T18:34:55.351210Z"
    }
   },
   "cell_type": "code",
   "source": [
    "neo4j_driver.execute_query(query_=\"\"\"\n",
    "MATCH (source:Person)-[r:BUYS]->(target:Product)\n",
    "RETURN gds.graph.project(\n",
    "  'purchases',\n",
    "  source,\n",
    "  target,\n",
    "  {\n",
    "    sourceNodeLabels: labels(source),\n",
    "    targetNodeLabels: labels(target),\n",
    "    relationshipType: 'BUYS',\n",
    "    relationshipProperties: r { .amount }\n",
    "  },\n",
    "  { undirectedRelationshipTypes: ['BUYS'] }\n",
    ")\n",
    "\"\"\")"
   ],
   "id": "e15350dd93807290",
   "outputs": [
    {
     "data": {
      "text/plain": [
       "EagerResult(records=[<Record gds.graph.project(\n",
       "  'purchases',\n",
       "  source,\n",
       "  target,\n",
       "  {\n",
       "    sourceNodeLabels: labels(source),\n",
       "    targetNodeLabels: labels(target),\n",
       "    relationshipType: 'BUYS',\n",
       "    relationshipProperties: r { .amount }\n",
       "  },\n",
       "  { undirectedRelationshipTypes: ['BUYS'] }\n",
       ")={'relationshipCount': 36, 'graphName': 'purchases', 'query': \"\\nMATCH (source:Person)-[r:BUYS]->(target:Product)\\nRETURN gds.graph.project(\\n  'purchases',\\n  source,\\n  target,\\n  {\\n    sourceNodeLabels: labels(source),\\n    targetNodeLabels: labels(target),\\n    relationshipType: 'BUYS',\\n    relationshipProperties: r { .amount }\\n  },\\n  { undirectedRelationshipTypes: ['BUYS'] }\\n)\\n\", 'projectMillis': 1337, 'configuration': {'readConcurrency': 4, 'undirectedRelationshipTypes': ['BUYS'], 'jobId': '8f310ce5-565d-48d0-995e-f0b0e4614000', 'logProgress': True, 'query': \"\\nMATCH (source:Person)-[r:BUYS]->(target:Product)\\nRETURN gds.graph.project(\\n  'purchases',\\n  source,\\n  target,\\n  {\\n    sourceNodeLabels: labels(source),\\n    targetNodeLabels: labels(target),\\n    relationshipType: 'BUYS',\\n    relationshipProperties: r { .amount }\\n  },\\n  { undirectedRelationshipTypes: ['BUYS'] }\\n)\\n\", 'inverseIndexedRelationshipTypes': []}, 'nodeCount': 13}>], summary=<neo4j._work.summary.ResultSummary object at 0x174574710>, keys=[\"gds.graph.project(\\n  'purchases',\\n  source,\\n  target,\\n  {\\n    sourceNodeLabels: labels(source),\\n    targetNodeLabels: labels(target),\\n    relationshipType: 'BUYS',\\n    relationshipProperties: r { .amount }\\n  },\\n  { undirectedRelationshipTypes: ['BUYS'] }\\n)\"])"
      ]
     },
     "execution_count": 19,
     "metadata": {},
     "output_type": "execute_result"
    }
   ],
   "execution_count": 19
  },
  {
   "metadata": {
    "ExecuteTime": {
     "end_time": "2025-03-23T18:34:57.623563Z",
     "start_time": "2025-03-23T18:34:57.406408Z"
    }
   },
   "cell_type": "code",
   "source": [
    "neo4j_driver.execute_query(query_=\"\"\"\n",
    "CALL gds.fastRP.mutate(\n",
    "  'purchases',\n",
    "  {\n",
    "    embeddingDimension: 4,\n",
    "    iterationWeights: [0.8, 1, 1, 1],\n",
    "    relationshipWeightProperty: 'amount',\n",
    "    randomSeed: 42,\n",
    "    mutateProperty: 'embedding'\n",
    "  }\n",
    ")\n",
    "YIELD nodePropertiesWritten\n",
    "\"\"\")"
   ],
   "id": "929fed9b4d41b1fd",
   "outputs": [
    {
     "data": {
      "text/plain": [
       "EagerResult(records=[<Record nodePropertiesWritten=13>], summary=<neo4j._work.summary.ResultSummary object at 0x17453d610>, keys=['nodePropertiesWritten'])"
      ]
     },
     "execution_count": 20,
     "metadata": {},
     "output_type": "execute_result"
    }
   ],
   "execution_count": 20
  },
  {
   "metadata": {
    "ExecuteTime": {
     "end_time": "2025-03-23T18:34:57.846727Z",
     "start_time": "2025-03-23T18:34:57.629103Z"
    }
   },
   "cell_type": "code",
   "source": [
    "neo4j_driver.execute_query(query_=\"\"\"\n",
    "CALL gds.knn.write(\n",
    "  'purchases',\n",
    "  {\n",
    "    nodeProperties: ['embedding'],\n",
    "    nodeLabels: ['Person', 'Product'],\n",
    "    topK: 2,\n",
    "    sampleRate: 1.0,\n",
    "    deltaThreshold: 0.0,\n",
    "    randomSeed: 42,\n",
    "    concurrency: 1,\n",
    "    writeProperty: 'score',\n",
    "    writeRelationshipType: 'SIMILAR'\n",
    "  }\n",
    ")\n",
    "YIELD similarityDistribution\n",
    "RETURN similarityDistribution.mean AS meanSimilarity\n",
    "\"\"\")"
   ],
   "id": "c1051bb6b85b351d",
   "outputs": [
    {
     "data": {
      "text/plain": [
       "EagerResult(records=[<Record meanSimilarity=0.929229002732497>], summary=<neo4j._work.summary.ResultSummary object at 0x17458f8d0>, keys=['meanSimilarity'])"
      ]
     },
     "execution_count": 21,
     "metadata": {},
     "output_type": "execute_result"
    }
   ],
   "execution_count": 21
  },
  {
   "metadata": {
    "ExecuteTime": {
     "end_time": "2025-03-23T18:35:06.065616Z",
     "start_time": "2025-03-23T18:35:06.047252Z"
    }
   },
   "cell_type": "code",
   "source": [
    "records, summary, keys = neo4j_driver.execute_query(query_=\"\"\"\n",
    "MATCH (n:Person)-[r:SIMILAR]->(m:Product)\n",
    "RETURN n.name AS person1, m.name AS person2, r.score AS similarity\n",
    "ORDER BY similarity DESCENDING, person1, person2\n",
    "\"\"\")\n",
    "\n",
    "print(records)"
   ],
   "id": "b35bf469a4e5cf52",
   "outputs": [
    {
     "name": "stdout",
     "output_type": "stream",
     "text": [
      "[<Record person1='Brie' person2='Cucumber' similarity=0.9944208860397339>, <Record person1='Matt' person2='Tomatoes' similarity=0.9895073175430298>, <Record person1='Brie' person2='Kale' similarity=0.9847311973571777>, <Record person1='Annie' person2='Tomatoes' similarity=0.9797690510749817>, <Record person1='Elsa' person2='Chocolate' similarity=0.9629020690917969>, <Record person1='Dan' person2='Chocolate' similarity=0.9248852729797363>, <Record person1='Jeff' person2='Tomatoes' similarity=0.8191928863525391>]\n"
     ]
    }
   ],
   "execution_count": 24
  },
  {
   "metadata": {},
   "cell_type": "code",
   "outputs": [],
   "execution_count": null,
   "source": "",
   "id": "7f0c0245dcbe0b3e"
  }
 ],
 "metadata": {
  "kernelspec": {
   "display_name": "Python 3",
   "language": "python",
   "name": "python3"
  },
  "language_info": {
   "codemirror_mode": {
    "name": "ipython",
    "version": 2
   },
   "file_extension": ".py",
   "mimetype": "text/x-python",
   "name": "python",
   "nbconvert_exporter": "python",
   "pygments_lexer": "ipython2",
   "version": "2.7.6"
  }
 },
 "nbformat": 4,
 "nbformat_minor": 5
}
