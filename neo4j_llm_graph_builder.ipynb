{
 "cells": [
  {
   "metadata": {},
   "cell_type": "markdown",
   "source": "#  LLM Knowledge Graph Builder",
   "id": "a3ac3798dec50fab"
  },
  {
   "metadata": {},
   "cell_type": "markdown",
   "source": "## 소개",
   "id": "29e88faee326eacf"
  },
  {
   "metadata": {},
   "cell_type": "markdown",
   "source": "https://neo4j.com/labs/genai-ecosystem/llm-graph-builder/",
   "id": "7b5865995c8ce0e3"
  },
  {
   "metadata": {},
   "cell_type": "markdown",
   "source": ">The Neo4j LLM Knowledge Graph Builder is an online application for turning unstructured text into a knowledge graph, it provides a magical text to graph experience.",
   "id": "b837046dc104f558"
  },
  {
   "metadata": {},
   "cell_type": "markdown",
   "source": "",
   "id": "58db65bef0529434"
  }
 ],
 "metadata": {},
 "nbformat": 5,
 "nbformat_minor": 9
}
