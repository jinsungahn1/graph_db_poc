{
 "cells": [
  {
   "metadata": {},
   "cell_type": "markdown",
   "source": [
    "https://neo4j.com/labs/genai-ecosystem/graphrag-python/\n",
    "\n",
    "https://neo4j.com/docs/neo4j-graphrag-python/current/user_guide_rag.html#"
   ],
   "id": "e681ab33bfff7811"
  },
  {
   "metadata": {
    "ExecuteTime": {
     "end_time": "2025-03-22T04:38:52.941945Z",
     "start_time": "2025-03-22T04:38:52.939664Z"
    }
   },
   "cell_type": "code",
   "outputs": [],
   "execution_count": 5,
   "source": [
    "NEO4J_URI = \"neo4j://localhost:7687\"\n",
    "NEO4J_USERNAME = \"neo4j\"\n",
    "NEO4J_PASSWORD = \"anatomy-exodus-pigment-colombo-octopus-1216\""
   ],
   "id": "d28d44ba5928883e"
  },
  {
   "metadata": {
    "ExecuteTime": {
     "end_time": "2025-03-22T05:09:26.665336Z",
     "start_time": "2025-03-22T05:09:26.618028Z"
    }
   },
   "cell_type": "code",
   "source": [
    "# Neo4j Driver\n",
    "import neo4j\n",
    "\n",
    "neo4j_driver = neo4j.GraphDatabase.driver(\n",
    "    NEO4J_URI,\n",
    "    auth=(NEO4J_USERNAME, NEO4J_PASSWORD)\n",
    ")\n",
    "\n",
    "# LLM and Embedding Model\n",
    "from neo4j_graphrag.llm import OpenAILLM\n",
    "from neo4j_graphrag.embeddings.openai import OpenAIEmbeddings\n",
    "\n",
    "llm=OpenAILLM(\n",
    "   model_name=\"gpt-4o-mini\",\n",
    "   model_params={\n",
    "       \"temperature\": 0 # turning temperature down for more deterministic results\n",
    "   }\n",
    ")\n",
    "\n",
    "embedder = OpenAIEmbeddings()"
   ],
   "id": "b2cef0ebda0b572a",
   "outputs": [],
   "execution_count": 11
  },
  {
   "metadata": {
    "collapsed": true,
    "ExecuteTime": {
     "end_time": "2025-03-22T05:12:35.622058Z",
     "start_time": "2025-03-22T05:12:35.620081Z"
    }
   },
   "cell_type": "code",
   "source": "q = \"Moamen Mostafa 가 한 질문들을 알려줘.\"",
   "id": "initial_id",
   "outputs": [],
   "execution_count": 17
  },
  {
   "metadata": {
    "ExecuteTime": {
     "end_time": "2025-03-22T04:38:55.518529Z",
     "start_time": "2025-03-22T04:38:55.161087Z"
    }
   },
   "cell_type": "code",
   "source": [
    "# Vector Retriever\n",
    "from neo4j_graphrag.generation import GraphRAG, RagTemplate\n",
    "from neo4j_graphrag.retrievers import VectorRetriever\n",
    "\n",
    "vector_retriever = VectorRetriever(\n",
    "    neo4j_driver,\n",
    "    index_name=\"text_embeddings\",\n",
    "    embedder=embedder,\n",
    "    return_properties=[\"text\"],\n",
    ")\n",
    "\n",
    "vector_rag = GraphRAG(llm=llm, retriever=vector_retriever, prompt_template=RagTemplate())\n",
    "\n",
    "vector_rag.search(q, retriever_config={'top_k': 5})"
   ],
   "id": "f6cad83cff105a8",
   "outputs": [
    {
     "ename": "Exception",
     "evalue": "No index with name text_embeddings found",
     "output_type": "error",
     "traceback": [
      "\u001B[31m---------------------------------------------------------------------------\u001B[39m",
      "\u001B[31mIndexError\u001B[39m                                Traceback (most recent call last)",
      "\u001B[36mFile \u001B[39m\u001B[32m~/anaconda3/lib/python3.11/site-packages/neo4j_graphrag/retrievers/base.py:124\u001B[39m, in \u001B[36mRetriever._fetch_index_infos\u001B[39m\u001B[34m(self, vector_index_name)\u001B[39m\n\u001B[32m    123\u001B[39m \u001B[38;5;28;01mtry\u001B[39;00m:\n\u001B[32m--> \u001B[39m\u001B[32m124\u001B[39m     result = query_result.records[\u001B[32m0\u001B[39m]\n\u001B[32m    125\u001B[39m     \u001B[38;5;28mself\u001B[39m._node_label = result[\u001B[33m\"\u001B[39m\u001B[33mlabels\u001B[39m\u001B[33m\"\u001B[39m][\u001B[32m0\u001B[39m]\n",
      "\u001B[31mIndexError\u001B[39m: list index out of range",
      "\nThe above exception was the direct cause of the following exception:\n",
      "\u001B[31mException\u001B[39m                                 Traceback (most recent call last)",
      "\u001B[36mCell\u001B[39m\u001B[36m \u001B[39m\u001B[32mIn[8]\u001B[39m\u001B[32m, line 6\u001B[39m\n\u001B[32m      3\u001B[39m \u001B[38;5;66;03m# Vector Retriever\u001B[39;00m\n\u001B[32m      4\u001B[39m \u001B[38;5;28;01mfrom\u001B[39;00m \u001B[34;01mneo4j_graphrag\u001B[39;00m\u001B[34;01m.\u001B[39;00m\u001B[34;01mretrievers\u001B[39;00m \u001B[38;5;28;01mimport\u001B[39;00m VectorRetriever\n\u001B[32m----> \u001B[39m\u001B[32m6\u001B[39m vector_retriever = VectorRetriever(\n\u001B[32m      7\u001B[39m     neo4j_driver,\n\u001B[32m      8\u001B[39m     index_name=\u001B[33m\"\u001B[39m\u001B[33mtext_embeddings\u001B[39m\u001B[33m\"\u001B[39m,\n\u001B[32m      9\u001B[39m     embedder=embedder,\n\u001B[32m     10\u001B[39m     return_properties=[\u001B[33m\"\u001B[39m\u001B[33mtext\u001B[39m\u001B[33m\"\u001B[39m],\n\u001B[32m     11\u001B[39m )\n\u001B[32m     13\u001B[39m vector_rag = GraphRAG(llm=llm, retriever=vector_retriever, prompt_template=rag_template)\n\u001B[32m     15\u001B[39m vector_rag.search(q, retriever_config={\u001B[33m'\u001B[39m\u001B[33mtop_k\u001B[39m\u001B[33m'\u001B[39m: \u001B[32m5\u001B[39m}).answer\n",
      "\u001B[36mFile \u001B[39m\u001B[32m~/anaconda3/lib/python3.11/site-packages/neo4j_graphrag/retrievers/vector.py:126\u001B[39m, in \u001B[36mVectorRetriever.__init__\u001B[39m\u001B[34m(self, driver, index_name, embedder, return_properties, result_formatter, neo4j_database)\u001B[39m\n\u001B[32m    124\u001B[39m \u001B[38;5;28mself\u001B[39m._embedding_node_property = \u001B[38;5;28;01mNone\u001B[39;00m\n\u001B[32m    125\u001B[39m \u001B[38;5;28mself\u001B[39m._embedding_dimension = \u001B[38;5;28;01mNone\u001B[39;00m\n\u001B[32m--> \u001B[39m\u001B[32m126\u001B[39m \u001B[38;5;28mself\u001B[39m._fetch_index_infos(\u001B[38;5;28mself\u001B[39m.index_name)\n",
      "\u001B[36mFile \u001B[39m\u001B[32m~/anaconda3/lib/python3.11/site-packages/neo4j_graphrag/retrievers/base.py:129\u001B[39m, in \u001B[36mRetriever._fetch_index_infos\u001B[39m\u001B[34m(self, vector_index_name)\u001B[39m\n\u001B[32m    127\u001B[39m     \u001B[38;5;28mself\u001B[39m._embedding_dimension = result[\u001B[33m\"\u001B[39m\u001B[33mdimensions\u001B[39m\u001B[33m\"\u001B[39m]\n\u001B[32m    128\u001B[39m \u001B[38;5;28;01mexcept\u001B[39;00m \u001B[38;5;167;01mIndexError\u001B[39;00m \u001B[38;5;28;01mas\u001B[39;00m e:\n\u001B[32m--> \u001B[39m\u001B[32m129\u001B[39m     \u001B[38;5;28;01mraise\u001B[39;00m \u001B[38;5;167;01mException\u001B[39;00m(\u001B[33mf\u001B[39m\u001B[33m\"\u001B[39m\u001B[33mNo index with name \u001B[39m\u001B[38;5;132;01m{\u001B[39;00m\u001B[38;5;28mself\u001B[39m.index_name\u001B[38;5;132;01m}\u001B[39;00m\u001B[33m found\u001B[39m\u001B[33m\"\u001B[39m) \u001B[38;5;28;01mfrom\u001B[39;00m \u001B[34;01me\u001B[39;00m\n",
      "\u001B[31mException\u001B[39m: No index with name text_embeddings found"
     ]
    }
   ],
   "execution_count": 8
  },
  {
   "metadata": {
    "ExecuteTime": {
     "end_time": "2025-03-22T05:14:52.075030Z",
     "start_time": "2025-03-22T05:14:52.001389Z"
    }
   },
   "cell_type": "code",
   "source": [
    "# GraphRAG Vector Cypher Retriever\n",
    "from neo4j_graphrag.generation import GraphRAG\n",
    "from neo4j_graphrag.retrievers import VectorCypherRetriever\n",
    "\n",
    "graph_retriever = VectorCypherRetriever(\n",
    "    neo4j_driver,\n",
    "    index_name=\"text_embeddings\",\n",
    "    embedder=embedder,\n",
    "    retrieval_query=\"\"\"\n",
    "//1) Go out 2-3 hops in the entity graph and get relationships\n",
    "WITH node AS chunk\n",
    "MATCH (chunk)<-[:FROM_CHUNK]-(entity)-[relList:!FROM_CHUNK]-{1,2}(nb)\n",
    "UNWIND relList AS rel\n",
    "\n",
    "//2) collect relationships and text chunks\n",
    "WITH collect(DISTINCT chunk) AS chunks, collect(DISTINCT rel) AS rels\n",
    "\n",
    "//3) format and return context\n",
    "RETURN apoc.text.join([c in chunks | c.text], '\\n') +\n",
    "  apoc.text.join([r in rels |\n",
    "  startNode(r).name+' - '+type(r)+' '+r.details+' -> '+endNode(r).name],\n",
    "  '\\n') AS info\n",
    "\"\"\"\n",
    ")\n",
    "\n",
    "graph_rag = GraphRAG(llm=llm, retriever=graph_retriever, prompt_template=RagTemplate())\n",
    "\n",
    "graph_rag.search(q, retriever_config={'top_k': 5})"
   ],
   "id": "86e78f33b5eef955",
   "outputs": [
    {
     "ename": "Exception",
     "evalue": "No index with name text_embeddings found",
     "output_type": "error",
     "traceback": [
      "\u001B[31m---------------------------------------------------------------------------\u001B[39m",
      "\u001B[31mIndexError\u001B[39m                                Traceback (most recent call last)",
      "\u001B[36mFile \u001B[39m\u001B[32m~/anaconda3/lib/python3.11/site-packages/neo4j_graphrag/retrievers/base.py:124\u001B[39m, in \u001B[36mRetriever._fetch_index_infos\u001B[39m\u001B[34m(self, vector_index_name)\u001B[39m\n\u001B[32m    123\u001B[39m \u001B[38;5;28;01mtry\u001B[39;00m:\n\u001B[32m--> \u001B[39m\u001B[32m124\u001B[39m     result = query_result.records[\u001B[32m0\u001B[39m]\n\u001B[32m    125\u001B[39m     \u001B[38;5;28mself\u001B[39m._node_label = result[\u001B[33m\"\u001B[39m\u001B[33mlabels\u001B[39m\u001B[33m\"\u001B[39m][\u001B[32m0\u001B[39m]\n",
      "\u001B[31mIndexError\u001B[39m: list index out of range",
      "\nThe above exception was the direct cause of the following exception:\n",
      "\u001B[31mException\u001B[39m                                 Traceback (most recent call last)",
      "\u001B[36mCell\u001B[39m\u001B[36m \u001B[39m\u001B[32mIn[19]\u001B[39m\u001B[32m, line 5\u001B[39m\n\u001B[32m      2\u001B[39m \u001B[38;5;28;01mfrom\u001B[39;00m \u001B[34;01mneo4j_graphrag\u001B[39;00m\u001B[34;01m.\u001B[39;00m\u001B[34;01mgeneration\u001B[39;00m \u001B[38;5;28;01mimport\u001B[39;00m GraphRAG\n\u001B[32m      3\u001B[39m \u001B[38;5;28;01mfrom\u001B[39;00m \u001B[34;01mneo4j_graphrag\u001B[39;00m\u001B[34;01m.\u001B[39;00m\u001B[34;01mretrievers\u001B[39;00m \u001B[38;5;28;01mimport\u001B[39;00m VectorCypherRetriever\n\u001B[32m----> \u001B[39m\u001B[32m5\u001B[39m graph_retriever = VectorCypherRetriever(\n\u001B[32m      6\u001B[39m     neo4j_driver,\n\u001B[32m      7\u001B[39m     index_name=\u001B[33m\"\u001B[39m\u001B[33mtext_embeddings\u001B[39m\u001B[33m\"\u001B[39m,\n\u001B[32m      8\u001B[39m     embedder=embedder,\n\u001B[32m      9\u001B[39m     retrieval_query=\u001B[33m\"\"\"\u001B[39m\n\u001B[32m     10\u001B[39m \u001B[33m//1) Go out 2-3 hops in the entity graph and get relationships\u001B[39m\n\u001B[32m     11\u001B[39m \u001B[33mWITH node AS chunk\u001B[39m\n\u001B[32m     12\u001B[39m \u001B[33mMATCH (chunk)<-[:FROM_CHUNK]-(entity)-[relList:!FROM_CHUNK]-\u001B[39m\u001B[33m{\u001B[39m\u001B[33m1,2}(nb)\u001B[39m\n\u001B[32m     13\u001B[39m \u001B[33mUNWIND relList AS rel\u001B[39m\n\u001B[32m     14\u001B[39m \n\u001B[32m     15\u001B[39m \u001B[33m//2) collect relationships and text chunks\u001B[39m\n\u001B[32m     16\u001B[39m \u001B[33mWITH collect(DISTINCT chunk) AS chunks, collect(DISTINCT rel) AS rels\u001B[39m\n\u001B[32m     17\u001B[39m \n\u001B[32m     18\u001B[39m \u001B[33m//3) format and return context\u001B[39m\n\u001B[32m     19\u001B[39m \u001B[33mRETURN apoc.text.join([c in chunks | c.text], \u001B[39m\u001B[33m'\u001B[39m\u001B[38;5;130;01m\\n\u001B[39;00m\u001B[33m'\u001B[39m\u001B[33m) +\u001B[39m\n\u001B[32m     20\u001B[39m \u001B[33m  apoc.text.join([r in rels |\u001B[39m\n\u001B[32m     21\u001B[39m \u001B[33m  startNode(r).name+\u001B[39m\u001B[33m'\u001B[39m\u001B[33m - \u001B[39m\u001B[33m'\u001B[39m\u001B[33m+type(r)+\u001B[39m\u001B[33m'\u001B[39m\u001B[33m \u001B[39m\u001B[33m'\u001B[39m\u001B[33m+r.details+\u001B[39m\u001B[33m'\u001B[39m\u001B[33m -> \u001B[39m\u001B[33m'\u001B[39m\u001B[33m+endNode(r).name],\u001B[39m\n\u001B[32m     22\u001B[39m \u001B[33m  \u001B[39m\u001B[33m'\u001B[39m\u001B[38;5;130;01m\\n\u001B[39;00m\u001B[33m'\u001B[39m\u001B[33m) AS info\u001B[39m\n\u001B[32m     23\u001B[39m \u001B[33m\"\"\"\u001B[39m\n\u001B[32m     24\u001B[39m )\n\u001B[32m     26\u001B[39m graph_rag = GraphRAG(llm=llm, retriever=graph_retriever, prompt_template=rag_template)\n\u001B[32m     28\u001B[39m graph_rag.search(q, retriever_config={\u001B[33m'\u001B[39m\u001B[33mtop_k\u001B[39m\u001B[33m'\u001B[39m: \u001B[32m5\u001B[39m})\n",
      "\u001B[36mFile \u001B[39m\u001B[32m~/anaconda3/lib/python3.11/site-packages/neo4j_graphrag/retrievers/vector.py:297\u001B[39m, in \u001B[36mVectorCypherRetriever.__init__\u001B[39m\u001B[34m(self, driver, index_name, retrieval_query, embedder, result_formatter, neo4j_database)\u001B[39m\n\u001B[32m    295\u001B[39m \u001B[38;5;28mself\u001B[39m._node_embedding_property = \u001B[38;5;28;01mNone\u001B[39;00m\n\u001B[32m    296\u001B[39m \u001B[38;5;28mself\u001B[39m._embedding_dimension = \u001B[38;5;28;01mNone\u001B[39;00m\n\u001B[32m--> \u001B[39m\u001B[32m297\u001B[39m \u001B[38;5;28mself\u001B[39m._fetch_index_infos(\u001B[38;5;28mself\u001B[39m.index_name)\n",
      "\u001B[36mFile \u001B[39m\u001B[32m~/anaconda3/lib/python3.11/site-packages/neo4j_graphrag/retrievers/base.py:129\u001B[39m, in \u001B[36mRetriever._fetch_index_infos\u001B[39m\u001B[34m(self, vector_index_name)\u001B[39m\n\u001B[32m    127\u001B[39m     \u001B[38;5;28mself\u001B[39m._embedding_dimension = result[\u001B[33m\"\u001B[39m\u001B[33mdimensions\u001B[39m\u001B[33m\"\u001B[39m]\n\u001B[32m    128\u001B[39m \u001B[38;5;28;01mexcept\u001B[39;00m \u001B[38;5;167;01mIndexError\u001B[39;00m \u001B[38;5;28;01mas\u001B[39;00m e:\n\u001B[32m--> \u001B[39m\u001B[32m129\u001B[39m     \u001B[38;5;28;01mraise\u001B[39;00m \u001B[38;5;167;01mException\u001B[39;00m(\u001B[33mf\u001B[39m\u001B[33m\"\u001B[39m\u001B[33mNo index with name \u001B[39m\u001B[38;5;132;01m{\u001B[39;00m\u001B[38;5;28mself\u001B[39m.index_name\u001B[38;5;132;01m}\u001B[39;00m\u001B[33m found\u001B[39m\u001B[33m\"\u001B[39m) \u001B[38;5;28;01mfrom\u001B[39;00m \u001B[34;01me\u001B[39;00m\n",
      "\u001B[31mException\u001B[39m: No index with name text_embeddings found"
     ]
    }
   ],
   "execution_count": 19
  },
  {
   "metadata": {
    "ExecuteTime": {
     "end_time": "2025-03-23T17:57:50.050145Z",
     "start_time": "2025-03-23T17:57:47.680741Z"
    }
   },
   "cell_type": "code",
   "source": [
    "# Text2Cypher Retriever\n",
    "from neo4j_graphrag.generation import GraphRAG\n",
    "from neo4j_graphrag.retrievers import Text2CypherRetriever\n",
    "\n",
    "text2cypher_retriever = Text2CypherRetriever(\n",
    "    driver=neo4j_driver,\n",
    "    llm=llm\n",
    ")\n",
    "\n",
    "text2cypher_rag = GraphRAG(llm=llm, retriever=text2cypher_retriever, prompt_template=RagTemplate())\n",
    "\n",
    "text2cypher_rag.search(q)"
   ],
   "id": "c1a7d1da1ffacd9d",
   "outputs": [
    {
     "data": {
      "text/plain": [
       "RagResultModel(answer='죄송하지만, Moamen Mostafa가 한 질문들에 대한 구체적인 정보는 제공할 수 없습니다. 다른 질문이나 도움이 필요하신 부분이 있다면 말씀해 주세요!', retriever_result=None)"
      ]
     },
     "execution_count": 22,
     "metadata": {},
     "output_type": "execute_result"
    }
   ],
   "execution_count": 22
  },
  {
   "metadata": {},
   "cell_type": "code",
   "outputs": [],
   "execution_count": null,
   "source": "",
   "id": "1f6f29e76514bcdc"
  }
 ],
 "metadata": {
  "kernelspec": {
   "display_name": "Python 3",
   "language": "python",
   "name": "python3"
  },
  "language_info": {
   "codemirror_mode": {
    "name": "ipython",
    "version": 2
   },
   "file_extension": ".py",
   "mimetype": "text/x-python",
   "name": "python",
   "nbconvert_exporter": "python",
   "pygments_lexer": "ipython2",
   "version": "2.7.6"
  }
 },
 "nbformat": 4,
 "nbformat_minor": 5
}
