{
 "cells": [
  {
   "metadata": {},
   "cell_type": "markdown",
   "source": [
    "https://neo4j.com/labs/genai-ecosystem/graphrag-python/\n",
    "\n",
    "https://neo4j.com/docs/neo4j-graphrag-python/current/user_guide_rag.html#"
   ],
   "id": "e681ab33bfff7811"
  },
  {
   "metadata": {
    "ExecuteTime": {
     "end_time": "2025-03-23T19:22:40.295442Z",
     "start_time": "2025-03-23T19:22:40.289339Z"
    }
   },
   "cell_type": "code",
   "source": [
    "NEO4J_URI = \"neo4j://localhost:7687\"\n",
    "NEO4J_USERNAME = \"neo4j\"\n",
    "NEO4J_PASSWORD = \"anatomy-exodus-pigment-colombo-octopus-1216\""
   ],
   "id": "d28d44ba5928883e",
   "outputs": [],
   "execution_count": 24
  },
  {
   "metadata": {
    "ExecuteTime": {
     "end_time": "2025-03-23T19:22:41.482146Z",
     "start_time": "2025-03-23T19:22:41.421083Z"
    }
   },
   "cell_type": "code",
   "source": [
    "# Neo4j Driver\n",
    "import neo4j\n",
    "\n",
    "neo4j_driver = neo4j.GraphDatabase.driver(\n",
    "    NEO4J_URI,\n",
    "    auth=(NEO4J_USERNAME, NEO4J_PASSWORD)\n",
    ")\n",
    "\n",
    "# LLM and Embedding Model\n",
    "from neo4j_graphrag.llm import OpenAILLM\n",
    "from neo4j_graphrag.embeddings.openai import OpenAIEmbeddings\n",
    "\n",
    "llm=OpenAILLM(\n",
    "   model_name=\"gpt-4o-mini\",\n",
    "   model_params={\n",
    "       \"temperature\": 0 # turning temperature down for more deterministic results\n",
    "   }\n",
    ")\n",
    "\n",
    "embedder = OpenAIEmbeddings()"
   ],
   "id": "b2cef0ebda0b572a",
   "outputs": [],
   "execution_count": 25
  },
  {
   "metadata": {
    "collapsed": true,
    "ExecuteTime": {
     "end_time": "2025-03-23T19:46:11.669293Z",
     "start_time": "2025-03-23T19:46:11.667387Z"
    }
   },
   "cell_type": "code",
   "source": "q = \"LG 유플러스에서 제공하는 이벤트\"",
   "id": "initial_id",
   "outputs": [],
   "execution_count": 46
  },
  {
   "metadata": {
    "ExecuteTime": {
     "end_time": "2025-03-23T19:46:22.090875Z",
     "start_time": "2025-03-23T19:46:11.964289Z"
    }
   },
   "cell_type": "code",
   "source": [
    "# Vector Retriever\n",
    "from neo4j_graphrag.generation import GraphRAG, RagTemplate\n",
    "from neo4j_graphrag.retrievers import VectorRetriever\n",
    "\n",
    "vector_retriever = VectorRetriever(\n",
    "    neo4j_driver,\n",
    "    index_name=\"text_embeddings\",\n",
    "    embedder=embedder,\n",
    "    return_properties=[\"text\"],\n",
    ")\n",
    "\n",
    "vector_rag = GraphRAG(llm=llm, retriever=vector_retriever, prompt_template=RagTemplate())\n",
    "\n",
    "vector_rag.search(q, retriever_config={'top_k': 5}, return_context=True)"
   ],
   "id": "f6cad83cff105a8",
   "outputs": [
    {
     "data": {
      "text/plain": [
       "RagResultModel(answer=\"LG 유플러스에서 제공하는 이벤트는 다음과 같습니다:\\n\\n1. **달콤한 빈칸 맞추기 이벤트**: 정답을 맞추면 러쉬 기프트 세트, 황금올리브 콤보 세트, 배스킨라빈스 블록팩 등 다양한 경품을 받을 수 있습니다. [이벤트 참여하기](https://www.lguplus.com/benefit-event/ongoing/81669)\\n\\n2. **휴대폰 개통 고객 대상 이벤트**: 유플러스 닷컴에서 판매하는 휴대폰을 개통한 고객을 대상으로 다양한 경품을 제공합니다. 참여 방법은 개통 후 '이벤트 참여하기'를 통해 신청하면 됩니다. 당첨자 발표는 4월 23일입니다. 경품으로는 BESPOKE 큐브 공기청정기, 갤럭시 탭 S10 Ultra, 스타벅스 라떼 등 다양한 상품이 있습니다.\\n\\n3. **장기고객 및 유쓰 혜택**: 장기 고객과 유쓰 고객을 위한 특별 혜택이 제공됩니다. [자세히 보기](https://www.lguplus.com/mobile/device/phone)\\n\\n4. **진행 중 이벤트 및 출석체크 이벤트**: 다양한 이벤트가 진행 중이며, 참여할 수 있는 기회가 많습니다. [이벤트 목록 확인하기](https://www.lguplus.com/mobile/device/phone)\\n\\n이 외에도 다양한 혜택과 이벤트가 있으니 유플러스 공식 웹사이트를 방문해 보시기 바랍니다.\", retriever_result=RetrieverResult(items=[RetrieverResultItem(content=\"{'text': '받아가세요](https://www.lguplus.com/static/pc-contents/images/prdv/20250307-013400-362-ap1w1SBx.png)](https://www.lguplus.com/benefit-event/ongoing/81683)\\\\n[ ![2025년 유플닷컴에선 혜택이 스르륵~ 달콤한 빈칸 맞추기 이벤트. 이벤트 정답 맞추고 경품 받아가세요. 러쉬 기프트 세트, 황금올리브 콤보 세트, 배스킨라빈스 블록팩, 멈칫 핸드크림 세트, 스타벅스 카페 라떼 톨, 말랑카우 밀크 경품 이미지](https://www.lguplus.com/static/pc-contents/images/prdv/20250228-011939-688-BLHzyFsp.png)](https://www.lguplus.com/benefit-event/ongoing/81669)\\\\n[ ![설레는 봄, 지금이 딱 iPhone 16e로 바꿀 타이밍. U+닷컴 온라인몰에서만 누릴 수 있는 혜택. '}\", metadata={'score': 0.9367210865020752, 'nodeLabels': ['__KGBuilder__', 'Chunk'], 'id': '4:e319af8b-a321-48ff-897d-5602d71148ce:54'}), RetrieverResultItem(content=\"{'text': '이용내역](https://www.lguplus.com/mobile/device/phone)\\\\n    * 장기고객/유쓰 혜택\\\\n      * [ 장기고객 혜택](https://www.lguplus.com/mobile/device/phone)\\\\n      * [ 유쓰 혜택](https://www.lguplus.com/mobile/device/phone)\\\\n    * 이벤트\\\\n      * [ 진행 중 이벤트](https://www.lguplus.com/mobile/device/phone)\\\\n      * [ 출석체크 이벤트](https://www.lguplus.com/mobile/device/phone)\\\\n      * [ 지난 이벤트](https://www.lguplus.com/mobile/device/phone)\\\\n      * [ 선호번호 신청 이벤트](https://www.lguplus.com/mobile/device/phone)\\\\n      * [ 당첨자 '}\", metadata={'score': 0.9300454258918762, 'nodeLabels': ['__KGBuilder__', 'Chunk'], 'id': '4:e319af8b-a321-48ff-897d-5602d71148ce:31'}), RetrieverResultItem(content=\"{'text': '실화냐? 폭싹 놀랐수다! 최대 63.2만원 할인 + 프리미엄 경품 혜택 유심 가입 시 스초생 + 커피가 공짜! 닌텐도 스위치 라이트, 삼성전자 갤럭시 버즈3 프로, Apple 에어팟 4 액티브 노이즈 캔슬링 경품 이미지. 유플러스닷컴으로 탑승 시 최대 63.2만원 할인+프리미엄 경품 혜택](https://www.lguplus.com/static/pc-contents/images/prdv/20250320-031019-402-eydJTGxx.png)](https://www.lguplus.com/benefit-event/ongoing/81581)\\\\n[ ![진정한 AI폰 Galaxy S25 Series 유플닷컴에서만 누릴 수 있는 완벽한 혜택 최대 57.5만원 휴대폰 가격 할인 받고 경품 혜택까지! 갤럭시 S25울트라 전면 디자인 화면 과 후면이 모서리가 이어지는 듯한 연출 이미지, 진정한 AI폰 Galaxy S25 '}\", metadata={'score': 0.9281115531921387, 'nodeLabels': ['__KGBuilder__', 'Chunk'], 'id': '4:e319af8b-a321-48ff-897d-5602d71148ce:51'}), RetrieverResultItem(content=\"{'text': '4일(금) \\\\n\\\\n이벤트 대상\\\\n     이벤트 기간 내 유플러스 닷컴에서 판매하는 휴대폰 개통 고객 *태블릿, 스마트워치, 액세서리, 유심, eSIM 제외  \\\\n\\\\n참여방법\\\\n    이벤트 기간 내 유플러스 닷컴에서 판매하는 휴대폰 개통 후 ‘이벤트 참여하기’를 통해 신청하면 끝! \\\\n\\\\n당첨자 발표\\\\n    4월 23일(수) *개별안내\\\\n## 참여혜택\\\\n  * BESPOKE 큐브 공기청정기 + 스탠드 의자 5명\\\\n  * 갤럭시 탭 S10 Ultra (Wi-Fi) 5명\\\\n  * 삼성전자 무선 충전 패드 트리오 색상랜덤 100명\\\\n  * 카카오프렌즈 춘식이 점보 그립 텀블러 1180ml 150명\\\\n  * 멈칫 퍼퓸 키링 핸드크림 50ml 150명\\\\n  * 카카오프렌즈 얼굴형 PD 보조배터리 9700ml 150명\\\\n  * 배스킨라빈스 골라먹는 27큐브 100명\\\\n  * BBQ 황금올리브 콤보 100명\\\\n  * 스타벅스 라떼 2잔 1,265명\\\\n\\\\n\\\\n오늘 하루 보지 않기 닫기\\\\n'}\", metadata={'score': 0.9272383451461792, 'nodeLabels': ['__KGBuilder__', 'Chunk'], 'id': '4:e319af8b-a321-48ff-897d-5602d71148ce:145'}), RetrieverResultItem(content=\"{'text': '   * [ 선호번호 신청 이벤트](https://www.lguplus.com/mobile/device/phone)\\\\n      * [ 당첨자 발표](https://www.lguplus.com/mobile/device/phone)\\\\n    * 유플닷컴 혜택\\\\n      * [ 닷컴 전용 혜택](https://www.lguplus.com/mobile/device/phone)\\\\n      * [ 닷컴 구매 혜택](https://www.lguplus.com/mobile/device/phone)\\\\n      * [ 포인트파크 할인](https://www.lguplus.com/mobile/device/phone)\\\\n    * 요금 할인 혜택\\\\n      * [ 모바일 요금 할인](https://www.lguplus.com/mobile/device/phone)\\\\n      * [ 선택약정 할인](https://www.lguplus.com/mobile/device/phone)\\\\n      * [ '}\", metadata={'score': 0.9262622594833374, 'nodeLabels': ['__KGBuilder__', 'Chunk'], 'id': '4:e319af8b-a321-48ff-897d-5602d71148ce:32'})], metadata={'__retriever': 'VectorRetriever'}))"
      ]
     },
     "execution_count": 47,
     "metadata": {},
     "output_type": "execute_result"
    }
   ],
   "execution_count": 47
  },
  {
   "metadata": {
    "ExecuteTime": {
     "end_time": "2025-03-23T19:47:07.148568Z",
     "start_time": "2025-03-23T19:47:05.109777Z"
    }
   },
   "cell_type": "code",
   "source": [
    "# GraphRAG Vector Cypher Retriever\n",
    "from neo4j_graphrag.generation import GraphRAG\n",
    "from neo4j_graphrag.retrievers import VectorCypherRetriever\n",
    "\n",
    "graph_retriever = VectorCypherRetriever(\n",
    "    neo4j_driver,\n",
    "    index_name=\"text_embeddings\",\n",
    "    embedder=embedder,\n",
    "    retrieval_query=\"\"\"\n",
    "//1) Go out 2-3 hops in the entity graph and get relationships\n",
    "WITH node AS chunk\n",
    "MATCH (chunk)<-[:FROM_CHUNK]-(entity)-[relList:!FROM_CHUNK]-{1,2}(nb)\n",
    "UNWIND relList AS rel\n",
    "\n",
    "//2) collect relationships and text chunks\n",
    "WITH collect(DISTINCT chunk) AS chunks, collect(DISTINCT rel) AS rels\n",
    "\n",
    "//3) format and return context\n",
    "RETURN apoc.text.join([c in chunks | c.text], '\\n') +\n",
    "  apoc.text.join([r in rels |\n",
    "  startNode(r).name+' - '+type(r)+' '+r.details+' -> '+endNode(r).name],\n",
    "  '\\n') AS info\n",
    "\"\"\"\n",
    ")\n",
    "\n",
    "graph_rag = GraphRAG(llm=llm, retriever=graph_retriever, prompt_template=RagTemplate())\n",
    "\n",
    "graph_rag.search(q, retriever_config={'top_k': 5}, return_context=True)"
   ],
   "id": "86e78f33b5eef955",
   "outputs": [
    {
     "data": {
      "text/plain": [
       "RagResultModel(answer='LG 유플러스에서 제공하는 이벤트에는 선호번호 신청 이벤트와 당첨자 발표가 있습니다. 자세한 내용은 [여기](https://www.lguplus.com/mobile/device/phone)에서 확인할 수 있습니다.', retriever_result=RetrieverResult(items=[RetrieverResultItem(content=\"<Record info='   * [ 선호번호 신청 이벤트](https://www.lguplus.com/mobile/device/phone)\\\\n      * [ 당첨자 발표](https://www.lguplus.com/mobile/device/phone)\\\\n    * 유플닷컴 혜택\\\\n      * [ 닷컴 전용 혜택](https://www.lguplus.com/mobile/device/phone)\\\\n      * [ 닷컴 구매 혜택](https://www.lguplus.com/mobile/device/phone)\\\\n      * [ 포인트파크 할인](https://www.lguplus.com/mobile/device/phone)\\\\n    * 요금 할인 혜택\\\\n      * [ 모바일 요금 할인](https://www.lguplus.com/mobile/device/phone)\\\\n      * [ 선택약정 할인](https://www.lguplus.com/mobile/device/phone)\\\\n      * [ null\\\\nnull\\\\nnull\\\\nnull\\\\nnull\\\\nnull'>\", metadata=None)], metadata={'__retriever': 'VectorCypherRetriever'}))"
      ]
     },
     "execution_count": 49,
     "metadata": {},
     "output_type": "execute_result"
    }
   ],
   "execution_count": 49
  },
  {
   "metadata": {
    "ExecuteTime": {
     "end_time": "2025-03-23T19:48:49.292379Z",
     "start_time": "2025-03-23T19:48:46.298371Z"
    }
   },
   "cell_type": "code",
   "source": [
    "# Text2Cypher Retriever\n",
    "from neo4j_graphrag.generation import GraphRAG\n",
    "from neo4j_graphrag.retrievers import Text2CypherRetriever\n",
    "\n",
    "text2cypher_retriever = Text2CypherRetriever(\n",
    "    driver=neo4j_driver,\n",
    "    llm=llm\n",
    ")\n",
    "\n",
    "text2cypher_rag = GraphRAG(llm=llm, retriever=text2cypher_retriever, prompt_template=RagTemplate())\n",
    "\n",
    "text2cypher_rag.search(q, return_context=True)"
   ],
   "id": "c1a7d1da1ffacd9d",
   "outputs": [
    {
     "data": {
      "text/plain": [
       "RagResultModel(answer='LG 유플러스에서 제공하는 이벤트는 다양합니다. 예를 들어, 신규 가입자에게 제공되는 할인 혜택, 특정 요금제 가입 시 추가 데이터 제공, 또는 특정 기간 동안의 무료 체험 서비스 등이 있습니다. 또한, 시즌별로 진행되는 프로모션이나 경품 이벤트도 자주 열리니, LG 유플러스 공식 웹사이트나 앱을 통해 최신 정보를 확인하는 것이 좋습니다.', retriever_result=RetrieverResult(items=[], metadata={'cypher': \"MATCH (o:Organization) WHERE o.name CONTAINS 'LG 유플러스' \\nRETURN o\", '__retriever': 'Text2CypherRetriever'}))"
      ]
     },
     "execution_count": 50,
     "metadata": {},
     "output_type": "execute_result"
    }
   ],
   "execution_count": 50
  },
  {
   "metadata": {},
   "cell_type": "code",
   "outputs": [],
   "execution_count": null,
   "source": "",
   "id": "1f6f29e76514bcdc"
  }
 ],
 "metadata": {
  "kernelspec": {
   "display_name": "Python 3",
   "language": "python",
   "name": "python3"
  },
  "language_info": {
   "codemirror_mode": {
    "name": "ipython",
    "version": 2
   },
   "file_extension": ".py",
   "mimetype": "text/x-python",
   "name": "python",
   "nbconvert_exporter": "python",
   "pygments_lexer": "ipython2",
   "version": "2.7.6"
  }
 },
 "nbformat": 4,
 "nbformat_minor": 5
}
