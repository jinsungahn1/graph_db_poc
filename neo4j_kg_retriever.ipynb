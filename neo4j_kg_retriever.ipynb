{
 "cells": [
  {
   "metadata": {},
   "cell_type": "markdown",
   "source": [
    "https://neo4j.com/labs/genai-ecosystem/graphrag-python/\n",
    "\n",
    "https://neo4j.com/docs/neo4j-graphrag-python/current/user_guide_rag.html#"
   ],
   "id": "e681ab33bfff7811"
  },
  {
   "metadata": {
    "ExecuteTime": {
     "end_time": "2025-04-03T03:45:04.620824Z",
     "start_time": "2025-04-03T03:45:04.618199Z"
    }
   },
   "cell_type": "code",
   "source": [
    "import sys\n",
    "import logging\n",
    "\n",
    "logger = logging.getLogger()\n",
    "logger.setLevel(logging.INFO)\n",
    "logger.addHandler(logging.StreamHandler(sys.stdout))"
   ],
   "id": "1a1f8a5a424739c",
   "outputs": [],
   "execution_count": 50
  },
  {
   "metadata": {},
   "cell_type": "code",
   "source": [
    "NEO4J_URI = \"neo4j://localhost:7687\"\n",
    "NEO4J_USERNAME = \"neo4j\"\n",
    "NEO4J_PASSWORD = \"anatomy-exodus-pigment-colombo-octopus-1216\""
   ],
   "id": "95c414c4f6358dfa",
   "outputs": [],
   "execution_count": null
  },
  {
   "metadata": {
    "ExecuteTime": {
     "end_time": "2025-04-03T00:00:05.041892Z",
     "start_time": "2025-04-03T00:00:05.038466Z"
    }
   },
   "cell_type": "code",
   "source": [
    "from neo4j_graphrag.generation import RagTemplate\n",
    "\n",
    "prompt_template = RagTemplate(\n",
    "    system_instructions=\"\"\"당신은 전문 지식과 폭넓은 정보를 갖춘 최첨단 에이전트입니다. 사용자가 질문을 하면 다음 지침에 따라 응답하세요.\n",
    "1. **풍부한 정보 제공:**\n",
    "   - 질문에 대해 가능한 모든 관련 배경 지식과 맥락을 설명하고, 필요한 경우 구체적인 예시와 참고 사항을 포함하세요.\n",
    "   - 복잡한 주제는 단계별로 세분화하여 설명하며, 각 단계의 중요 포인트를 명확하게 전달하세요.\n",
    "\n",
    "2. **체계적이고 명확한 응답:**\n",
    "   - 응답은 명확한 구조(예: 개요, 세부 사항, 결론)와 논리적 순서를 갖추어 작성하세요.\n",
    "   - 정보의 출처나 근거가 있을 경우 이를 함께 명시하고, 최신 정보에 기반한 답변을 제공하도록 노력하세요.\n",
    "\n",
    "3. **사용자 맞춤형 설명:**\n",
    "   - 질문의 맥락과 사용자의 수준에 맞춰 설명의 깊이와 세부 사항을 조절하세요.\n",
    "   - 추가 설명이나 예시가 필요한 경우, 부가 설명을 제공하여 이해를 돕도록 하세요.\n",
    "\n",
    "4. **중립적이고 객관적인 자세:**\n",
    "   - 모든 정보는 사실에 기반하여 객관적으로 전달하며, 다양한 관점이나 의견이 존재하는 경우 이를 균형 있게 소개하세요.\n",
    "   - 최신 업데이트나 변화가 있는 경우, 그에 따른 주의사항을 명확히 설명하세요.\n",
    "\n",
    "5. **대화형 인터랙션 유지:**\n",
    "   - 사용자의 추가 질문이나 요청에 대해 신속하고 유연하게 대응하며, 필요한 경우 추가적인 정보를 요청하여 보다 정확한 답변을 제공할 수 있도록 하세요.\n",
    "\n",
    "이러한 지침을 준수하여 사용자가 필요로 하는 풍부하고 심도 있는 정보를 제공하는 것이 목표입니다. 항상 사용자에게 최고의 도움이 될 수 있도록 노력하세요.\n",
    "\n",
    "Domain url is 'https://www.lguplus.com/'.\n",
    "    \"\"\"\n",
    ")"
   ],
   "id": "d28d44ba5928883e",
   "outputs": [],
   "execution_count": 26
  },
  {
   "metadata": {
    "ExecuteTime": {
     "end_time": "2025-04-03T01:46:25.921536Z",
     "start_time": "2025-04-03T01:46:25.885805Z"
    }
   },
   "cell_type": "code",
   "source": [
    "# Neo4j Driver\n",
    "import neo4j\n",
    "\n",
    "neo4j_driver = neo4j.GraphDatabase.driver(\n",
    "    NEO4J_URI,\n",
    "    auth=(NEO4J_USERNAME, NEO4J_PASSWORD)\n",
    ")\n",
    "\n",
    "# LLM and Embedding Model\n",
    "from neo4j_graphrag.llm import OpenAILLM\n",
    "from neo4j_graphrag.embeddings.openai import OpenAIEmbeddings\n",
    "\n",
    "llm = OpenAILLM(\n",
    "    model_name=\"gpt-4o\",\n",
    "    model_params={\n",
    "        \"temperature\": 0  # turning temperature down for more deterministic results\n",
    "    }\n",
    ")\n",
    "\n",
    "embedder = OpenAIEmbeddings()"
   ],
   "id": "b2cef0ebda0b572a",
   "outputs": [],
   "execution_count": 37
  },
  {
   "metadata": {
    "ExecuteTime": {
     "end_time": "2025-04-03T01:47:21.687833Z",
     "start_time": "2025-04-03T01:47:12.704467Z"
    }
   },
   "cell_type": "code",
   "outputs": [
    {
     "name": "stdout",
     "output_type": "stream",
     "text": [
      "HTTP Request: POST https://api.openai.com/v1/embeddings \"HTTP/1.1 200 OK\"\n",
      "HTTP Request: POST https://api.openai.com/v1/embeddings \"HTTP/1.1 200 OK\"\n",
      "HTTP Request: POST https://api.openai.com/v1/embeddings \"HTTP/1.1 200 OK\"\n",
      "HTTP Request: POST https://api.openai.com/v1/embeddings \"HTTP/1.1 200 OK\"\n",
      "HTTP Request: POST https://api.openai.com/v1/embeddings \"HTTP/1.1 200 OK\"\n",
      "HTTP Request: POST https://api.openai.com/v1/chat/completions \"HTTP/1.1 200 OK\"\n",
      "HTTP Request: POST https://api.openai.com/v1/chat/completions \"HTTP/1.1 200 OK\"\n",
      "HTTP Request: POST https://api.openai.com/v1/chat/completions \"HTTP/1.1 200 OK\"\n",
      "HTTP Request: POST https://api.openai.com/v1/chat/completions \"HTTP/1.1 200 OK\"\n",
      "HTTP Request: POST https://api.openai.com/v1/chat/completions \"HTTP/1.1 200 OK\"\n"
     ]
    },
    {
     "data": {
      "text/plain": [
       "RagResultModel(answer=\"현재 제공된 데이터에는 넷플릭스 관련 요금제에 대한 정보가 포함되어 있지 않습니다. 그러나 다른 미디어 및 OTT 서비스 관련 요금제에 대한 정보는 다음과 같습니다:\\n\\n1. **V컬러링 바이브 플러스**\\n   - **요금**: 월 8,800원\\n   - **서비스 설명**: V컬러링과 NAVER VIBE 앱 무제한 듣기를 할인된 금액으로 이용할 수 있는 서비스\\n   - **상세 주소**: [V컬러링 바이브 플러스](https://www.lguplus.com/mobile/plan/addon/addon-media/LRZ0003130)\\n\\n2. **아이들나라(스탠다드+러닝)**\\n   - **요금**: 무료\\n   - **서비스 설명**: 아이들나라 서비스의 학습, 독서 콘텐츠 전체와 놀이 콘텐츠 일부를 무료로 즐길 수 있는 '미디어 서비스' 혜택\\n   - **상세 주소**: [아이들나라(스탠다드+러닝)](https://www.lguplus.com/mobile/plan/addon/addon-media/LRZ0003315)\\n\\n3. **티빙 베이직**\\n   - **요금**: 월 9,500원\\n   - **서비스 설명**: 티빙 오리지널 콘텐츠와 tvN, JTBC, Mnet 등의 최신 방송 프로그램, 스포츠, 공연 중계, 애니메이션 등을 제공하는 OTT 서비스\\n   - **상세 주소**: [티빙 베이직](https://www.lguplus.com/mobile/plan/addon/addon-media/LRZ1000435)\\n\\n4. **티빙 프리미엄**\\n   - **요금**: 월 17,000원\\n   - **서비스 설명**: 티빙 오리지널 콘텐츠와 tvN, JTBC, Mnet 등의 최신 방송 프로그램, 스포츠, Apple TV+ 콘텐츠 등을 제공하는 OTT 서비스\\n   - **상세 주소**: [티빙 프리미엄](https://www.lguplus.com/mobile/plan/addon/addon-media/LRZ1000441)\\n\\n5. **V컬러링**\\n   - **요금**: 월 3,300원\\n   - **서비스 설명**: 전화를 건 상대방에게 내가 설정한 영상을 보여주는 영상 통화연결음 서비스\\n   - **상세 주소**: [V컬러링](https://www.lguplus.com/mobile/plan/addon/addon-call-msg/LRZ0002150)\\n\\n넷플릭스 관련 요금제에 대한 정보가 필요하시면, LG U+ 공식 웹사이트나 고객센터를 통해 최신 정보를 확인하실 수 있습니다.\", retriever_result=RetrieverResult(items=[RetrieverResultItem(content='{\\'id\\': \\'65c346e26a0d167f88329fc4e8fea89c\\', \\'text\\': \\'{\\\\n  \"요금내용\": \"월 8,800원\",\\\\n  \"서비스명\": \"V컬러링 바이브 플러스\",\\\\n  \"카테고리코드\": \"M10053\",\\\\n  \"사용여부\": \"Y\",\\\\n  \"ALIAS\": \"per_mo_service\",\\\\n  \"상세주소\": \"/mobile/plan/addon/addon-media/LRZ0003130\",\\\\n  \"서비스설명\": \"V컬러링과 NAVER VIBE 앱 무제한 듣기를  할인된 금액으로 이용 할 수 있는 서비스\",\\\\n  \"서비스코드\": \"LRZ0003130\",\\\\n  \"카테고리명\": \"영상/음악\",\\\\n  \"부가가치세\": \"부가세 포함 금액\",\\\\n  \"구분값\": \"LRZ0003130\",\\\\n  \"IOS이미지\": \"\",\\\\n  \"text\": \"카테고리명:영상/음악 부가가치세:부가세 포함 금액 서비스코드:LRZ0003130 카테고리코드:M10053 서비스명:V컬러링 바이브 플러스 ALIAS:per_mo_service 요금내용:월 8,800원 서비스설명:V컬러링과 NAVER VIBE 앱 무제한 듣기를  할인된 금액으로 이용 할 수 있는 서비스 IOS이미지: 상세주소:/mobile/plan/addon/addon-media/LRZ0003130 구분값:LRZ0003130 사용여부:Y 안드로이드이미지:\",\\\\n  \"안드로이드이미지\": \"\"\\\\n}\\', \\'text_embedding\\': None}', metadata={'score': 0.891326904296875, 'nodeLabels': ['__Entity__', 'Document'], 'id': '4:e91334ed-cf36-4fa8-a84c-5afca4e086d3:1685'}), RetrieverResultItem(content='{\\'id\\': \\'e565f95cac775c83d0f78d9411698459\\', \\'text\\': \\'{\\\\n  \"요금내용\": \"무료\",\\\\n  \"서비스명\": \"아이들나라(스탠다드+러닝)\",\\\\n  \"카테고리코드\": \"M10053\",\\\\n  \"사용여부\": \"Y\",\\\\n  \"ALIAS\": \"per_mo_service\",\\\\n  \"상세주소\": \"/mobile/plan/addon/addon-media/LRZ0003315\",\\\\n  \"서비스설명\": \"아이들나라 서비스의 학습, 독서 콘텐츠 전체와 놀이 콘텐츠 일부를 무료로 즐길 수 있는 \\\\\\'미디어 서비스\\\\\\' 혜택(약 2만여 편)\",\\\\n  \"서비스코드\": \"LRZ0003315\",\\\\n  \"카테고리명\": \"영상/음악\",\\\\n  \"부가가치세\": \"95요금제 이상 이용 고객만 신청 가능\",\\\\n  \"구분값\": \"LRZ0003315\",\\\\n  \"IOS이미지\": \"\",\\\\n  \"text\": \"카테고리명:영상/음악 부가가치세:95요금제 이상 이용 고객만 신청 가능 서비스코드:LRZ0003315 카테고리코드:M10053 서비스명:아이들나라(스탠다드+러닝) ALIAS:per_mo_service 요금내용:무료 서비스설명:아이들나라 서비스의 학습, 독서 콘텐츠 전체와 놀이 콘텐츠 일부를 무료로 즐길 수 있는 \\\\\\'미디어 서비스\\\\\\' 혜택(약 2만여 편) IOS이미지: 상세주소:/mobile/plan/addon/addon-media/LRZ0003315 구분값:LRZ0003315 사용여부:Y 안드로이드이미지:\",\\\\n  \"안드로이드이미지\": \"\"\\\\n}\\', \\'text_embedding\\': None}', metadata={'score': 0.8879547119140625, 'nodeLabels': ['__Entity__', 'Document'], 'id': '4:e91334ed-cf36-4fa8-a84c-5afca4e086d3:1604'}), RetrieverResultItem(content='{\\'id\\': \\'1380d2ce09531cd53a49ca95b7b3b720\\', \\'text\\': \\'{\\\\n  \"요금내용\": \"월 9,500원\",\\\\n  \"서비스명\": \"티빙 베이직\",\\\\n  \"카테고리코드\": \"M10053\",\\\\n  \"사용여부\": \"Y\",\\\\n  \"ALIAS\": \"per_mo_service\",\\\\n  \"상세주소\": \"/mobile/plan/addon/addon-media/LRZ1000435\",\\\\n  \"서비스설명\": \"티빙 오리지널 콘텐츠와 tvN, JTBC, Mnet 등의 최신 방송 프로그램, 스포츠, 공연 중계, 애니메이션 등<br> 다채로운 콘텐츠를 빠르고 편리하게 즐길 수 있는 OTT 서비스. <br>티빙과 함께 재미를 무제한 스트리밍하세요!\",\\\\n  \"서비스코드\": \"LRZ1000435\",\\\\n  \"카테고리명\": \"영상/음악\",\\\\n  \"부가가치세\": \"(부가세 포함 금액)\",\\\\n  \"구분값\": \"LRZ1000435\",\\\\n  \"IOS이미지\": \"\",\\\\n  \"text\": \"카테고리명:영상/음악 부가가치세:(부가세 포함 금액) 서비스코드:LRZ1000435 카테고리코드:M10053 서비스명:티빙 베이직 ALIAS:per_mo_service 요금내용:월 9,500원 서비스설명:티빙 오리지널 콘텐츠와 tvN, JTBC, Mnet 등의 최신 방송 프로그램, 스포츠, 공연 중계, 애니메이션 등<br> 다채로운 콘텐츠를 빠르고 편리하게 즐길 수 있는 OTT 서비스. <br>티빙과 함께 재미를 무제한 스트리밍하세요! IOS이미지: 상세주소:/mobile/plan/addon/addon-media/LRZ1000435 구분값:LRZ1000435 사용여부:Y 안드로이드이미지:\",\\\\n  \"안드로이드이미지\": \"\"\\\\n}\\', \\'text_embedding\\': None}', metadata={'score': 0.88714599609375, 'nodeLabels': ['__Entity__', 'Document'], 'id': '4:e91334ed-cf36-4fa8-a84c-5afca4e086d3:1009'}), RetrieverResultItem(content='{\\'id\\': \\'09cd89c6ecd04da06ec1058b1b9b120d\\', \\'text\\': \\'{\\\\n  \"요금내용\": \"월 17,000원\",\\\\n  \"서비스명\": \"티빙 프리미엄\",\\\\n  \"카테고리코드\": \"M10053\",\\\\n  \"사용여부\": \"Y\",\\\\n  \"ALIAS\": \"per_mo_service\",\\\\n  \"상세주소\": \"/mobile/plan/addon/addon-media/LRZ1000441\",\\\\n  \"서비스설명\": \"티빙 오리지널 콘텐츠와 tvN, JTBC, Mnet 등의 최신 방송 프로그램, 스포츠, Apple TV+ 콘텐츠, 공연, 중계, 애니메이션 등<br> 다채로운 콘텐츠를 빠르고 편리하게 즐길 수 있는 OTT 서비스. <br>티빙과 함께 재미를 무제한 스트리밍하세요!\",\\\\n  \"서비스코드\": \"LRZ1000441\",\\\\n  \"카테고리명\": \"영상/음악\",\\\\n  \"부가가치세\": \"(부가세 포함 금액)\",\\\\n  \"구분값\": \"LRZ1000441\",\\\\n  \"IOS이미지\": \"\",\\\\n  \"text\": \"카테고리명:영상/음악 부가가치세:(부가세 포함 금액) 서비스코드:LRZ1000441 카테고리코드:M10053 서비스명:티빙 프리미엄 ALIAS:per_mo_service 요금내용:월 17,000원 서비스설명:티빙 오리지널 콘텐츠와 tvN, JTBC, Mnet 등의 최신 방송 프로그램, 스포츠, Apple TV+ 콘텐츠, 공연, 중계, 애니메이션 등<br> 다채로운 콘텐츠를 빠르고 편리하게 즐길 수 있는 OTT 서비스. <br>티빙과 함께 재미를 무제한 스트리밍하세요! IOS이미지: 상세주소:/mobile/plan/addon/addon-media/LRZ1000441 구분값:LRZ1000441 사용여부:Y 안드로이드이미지:\",\\\\n  \"안드로이드이미지\": \"\"\\\\n}\\', \\'text_embedding\\': None}', metadata={'score': 0.8867950439453125, 'nodeLabels': ['__Entity__', 'Document'], 'id': '4:e91334ed-cf36-4fa8-a84c-5afca4e086d3:934'}), RetrieverResultItem(content='{\\'id\\': \\'b9be027cf2df3e8f062d4ed2cba78c08\\', \\'text\\': \\'{\\\\n  \"요금내용\": \"월 3,300원\",\\\\n  \"서비스명\": \"V컬러링\",\\\\n  \"카테고리코드\": \"M10054\",\\\\n  \"사용여부\": \"Y\",\\\\n  \"ALIAS\": \"per_mo_service\",\\\\n  \"상세주소\": \"/mobile/plan/addon/addon-call-msg/LRZ0002150\",\\\\n  \"서비스설명\": \"전화를 건 상대방에게 내가 설정한 영상을 보여주는 영상 통화연결음 서비스 <br>APP 또는 별도 페이지에서 이용 가능한 서비스입니다.\",\\\\n  \"서비스코드\": \"LRZ0002150\",\\\\n  \"카테고리명\": \"통화/문자메시지\",\\\\n  \"부가가치세\": \"(부가세 포함 금액)\",\\\\n  \"구분값\": \"LRZ0002150\",\\\\n  \"IOS이미지\": \"\",\\\\n  \"text\": \"카테고리명:통화/문자메시지 부가가치세:(부가세 포함 금액) 서비스코드:LRZ0002150 카테고리코드:M10054 서비스명:V컬러링 ALIAS:per_mo_service 요금내용:월 3,300원 서비스설명:전화를 건 상대방에게 내가 설정한 영상을 보여주는 영상 통화연결음 서비스 <br>APP 또는 별도 페이지에서 이용 가능한 서비스입니다. IOS이미지: 상세주소:/mobile/plan/addon/addon-call-msg/LRZ0002150 구분값:LRZ0002150 사용여부:Y 안드로이드이미지:\",\\\\n  \"안드로이드이미지\": \"\"\\\\n}\\', \\'text_embedding\\': None}', metadata={'score': 0.886199951171875, 'nodeLabels': ['__Entity__', 'Document'], 'id': '4:e91334ed-cf36-4fa8-a84c-5afca4e086d3:1378'})], metadata={'__retriever': 'VectorRetriever'}))"
      ]
     },
     "execution_count": 38,
     "metadata": {},
     "output_type": "execute_result"
    }
   ],
   "execution_count": 38,
   "source": [
    "# Vector Retriever\n",
    "from neo4j_graphrag.generation import GraphRAG\n",
    "from neo4j_graphrag.retrievers import VectorRetriever\n",
    "\n",
    "vector_retriever = VectorRetriever(\n",
    "    neo4j_driver,\n",
    "    index_name=\"text_embeddings\",\n",
    "    embedder=embedder\n",
    ")\n",
    "\n",
    "vector_rag = GraphRAG(llm=llm, retriever=vector_retriever, prompt_template=prompt_template)\n",
    "\n",
    "result = vector_rag.search(\"넷플릭스 관련된 요금제를 알려줘\", retriever_config={'top_k': 5}, return_context=True)\n",
    "result"
   ],
   "id": "f6cad83cff105a8"
  },
  {
   "metadata": {
    "ExecuteTime": {
     "end_time": "2025-04-03T03:37:29.433601Z",
     "start_time": "2025-04-03T03:37:18.471017Z"
    }
   },
   "cell_type": "code",
   "source": [
    "from neo4j_graphrag.generation import GraphRAG, RagTemplate\n",
    "from neo4j_graphrag.retrievers import VectorCypherRetriever\n",
    "\n",
    "graph_retriever = VectorCypherRetriever(\n",
    "    neo4j_driver,\n",
    "    index_name=\"text_embeddings\",\n",
    "    embedder=embedder,\n",
    "    retrieval_query=\"\"\"\n",
    "MATCH (node)-[relList]-{1, 2}(nb: !Document)\n",
    "RETURN nb.id, relList[0]\n",
    "\"\"\"\n",
    ")\n",
    "\n",
    "graph_rag = GraphRAG(llm=llm, retriever=graph_retriever, prompt_template=prompt_template)\n",
    "\n",
    "result = graph_rag.search(\"테더링 요금제에 대해 알려줘\", retriever_config={'top_k': 1}, return_context=True)\n",
    "result"
   ],
   "id": "86e78f33b5eef955",
   "outputs": [
    {
     "name": "stdout",
     "output_type": "stream",
     "text": [
      "HTTP Request: POST https://api.openai.com/v1/embeddings \"HTTP/1.1 200 OK\"\n",
      "HTTP Request: POST https://api.openai.com/v1/embeddings \"HTTP/1.1 200 OK\"\n",
      "HTTP Request: POST https://api.openai.com/v1/embeddings \"HTTP/1.1 200 OK\"\n",
      "HTTP Request: POST https://api.openai.com/v1/embeddings \"HTTP/1.1 200 OK\"\n",
      "HTTP Request: POST https://api.openai.com/v1/embeddings \"HTTP/1.1 200 OK\"\n",
      "HTTP Request: POST https://api.openai.com/v1/embeddings \"HTTP/1.1 200 OK\"\n",
      "HTTP Request: POST https://api.openai.com/v1/embeddings \"HTTP/1.1 200 OK\"\n",
      "HTTP Request: POST https://api.openai.com/v1/embeddings \"HTTP/1.1 200 OK\"\n",
      "HTTP Request: POST https://api.openai.com/v1/embeddings \"HTTP/1.1 200 OK\"\n",
      "HTTP Request: POST https://api.openai.com/v1/embeddings \"HTTP/1.1 200 OK\"\n"
     ]
    },
    {
     "ename": "ValueError",
     "evalue": "Expected adapter or supported vector store, but got langchain_neo4j.vectorstores.neo4j_vector.Neo4jVector",
     "output_type": "error",
     "traceback": [
      "\u001B[31m---------------------------------------------------------------------------\u001B[39m",
      "\u001B[31mValidationError\u001B[39m                           Traceback (most recent call last)",
      "\u001B[36mFile \u001B[39m\u001B[32m~/PycharmProjects/graph_db_poc/venv/lib/python3.12/site-packages/neo4j_graphrag/generation/graphrag.py:73\u001B[39m, in \u001B[36mGraphRAG.__init__\u001B[39m\u001B[34m(self, retriever, llm, prompt_template)\u001B[39m\n\u001B[32m     72\u001B[39m \u001B[38;5;28;01mtry\u001B[39;00m:\n\u001B[32m---> \u001B[39m\u001B[32m73\u001B[39m     validated_data = \u001B[43mRagInitModel\u001B[49m\u001B[43m(\u001B[49m\n\u001B[32m     74\u001B[39m \u001B[43m        \u001B[49m\u001B[43mretriever\u001B[49m\u001B[43m=\u001B[49m\u001B[43mretriever\u001B[49m\u001B[43m,\u001B[49m\n\u001B[32m     75\u001B[39m \u001B[43m        \u001B[49m\u001B[43mllm\u001B[49m\u001B[43m=\u001B[49m\u001B[43mllm\u001B[49m\u001B[43m,\u001B[49m\n\u001B[32m     76\u001B[39m \u001B[43m        \u001B[49m\u001B[43mprompt_template\u001B[49m\u001B[43m=\u001B[49m\u001B[43mprompt_template\u001B[49m\u001B[43m,\u001B[49m\n\u001B[32m     77\u001B[39m \u001B[43m    \u001B[49m\u001B[43m)\u001B[49m\n\u001B[32m     78\u001B[39m \u001B[38;5;28;01mexcept\u001B[39;00m ValidationError \u001B[38;5;28;01mas\u001B[39;00m e:\n",
      "\u001B[36mFile \u001B[39m\u001B[32m~/PycharmProjects/graph_db_poc/venv/lib/python3.12/site-packages/pydantic/main.py:243\u001B[39m, in \u001B[36mBaseModel.__init__\u001B[39m\u001B[34m(self, **data)\u001B[39m\n\u001B[32m    242\u001B[39m __tracebackhide__ = \u001B[38;5;28;01mTrue\u001B[39;00m\n\u001B[32m--> \u001B[39m\u001B[32m243\u001B[39m validated_self = \u001B[38;5;28;43mself\u001B[39;49m\u001B[43m.\u001B[49m\u001B[43m__pydantic_validator__\u001B[49m\u001B[43m.\u001B[49m\u001B[43mvalidate_python\u001B[49m\u001B[43m(\u001B[49m\u001B[43mdata\u001B[49m\u001B[43m,\u001B[49m\u001B[43m \u001B[49m\u001B[43mself_instance\u001B[49m\u001B[43m=\u001B[49m\u001B[38;5;28;43mself\u001B[39;49m\u001B[43m)\u001B[49m\n\u001B[32m    244\u001B[39m \u001B[38;5;28;01mif\u001B[39;00m \u001B[38;5;28mself\u001B[39m \u001B[38;5;129;01mis\u001B[39;00m \u001B[38;5;129;01mnot\u001B[39;00m validated_self:\n",
      "\u001B[31mValidationError\u001B[39m: 1 validation error for RagInitModel\nretriever\n  Input should be an instance of Retriever [type=is_instance_of, input_value=<unprintable ContextualCo...ressionRetriever object>, input_type=ContextualCompressionRetriever]\n    For further information visit https://errors.pydantic.dev/2.11/v/is_instance_of",
      "\nDuring handling of the above exception, another exception occurred:\n",
      "\u001B[31mValueError\u001B[39m                                Traceback (most recent call last)",
      "\u001B[36mCell\u001B[39m\u001B[36m \u001B[39m\u001B[32mIn[46]\u001B[39m\u001B[32m, line 51\u001B[39m\n\u001B[32m     45\u001B[39m compressor = LLMChainExtractor.from_llm(temp_llm)\n\u001B[32m     46\u001B[39m compression_retriever = ContextualCompressionRetriever(\n\u001B[32m     47\u001B[39m     base_compressor=compressor, base_retriever=traversal_retriever\n\u001B[32m     48\u001B[39m )\n\u001B[32m---> \u001B[39m\u001B[32m51\u001B[39m graph_rag = \u001B[43mGraphRAG\u001B[49m\u001B[43m(\u001B[49m\u001B[43mllm\u001B[49m\u001B[43m=\u001B[49m\u001B[43mllm\u001B[49m\u001B[43m,\u001B[49m\u001B[43m \u001B[49m\u001B[43mretriever\u001B[49m\u001B[43m=\u001B[49m\u001B[43mcompression_retriever\u001B[49m\u001B[43m,\u001B[49m\u001B[43m \u001B[49m\u001B[43mprompt_template\u001B[49m\u001B[43m=\u001B[49m\u001B[43mprompt_template\u001B[49m\u001B[43m)\u001B[49m\n\u001B[32m     53\u001B[39m result = graph_rag.search(\u001B[33m\"\u001B[39m\u001B[33m넷플릭스 관련된 요금제에 대해 알려줘\u001B[39m\u001B[33m\"\u001B[39m, retriever_config={\u001B[33m'\u001B[39m\u001B[33mtop_k\u001B[39m\u001B[33m'\u001B[39m: \u001B[32m1\u001B[39m}, return_context=\u001B[38;5;28;01mTrue\u001B[39;00m)\n\u001B[32m     54\u001B[39m result\n",
      "\u001B[36mFile \u001B[39m\u001B[32m~/PycharmProjects/graph_db_poc/venv/lib/python3.12/site-packages/neo4j_graphrag/generation/graphrag.py:79\u001B[39m, in \u001B[36mGraphRAG.__init__\u001B[39m\u001B[34m(self, retriever, llm, prompt_template)\u001B[39m\n\u001B[32m     73\u001B[39m     validated_data = RagInitModel(\n\u001B[32m     74\u001B[39m         retriever=retriever,\n\u001B[32m     75\u001B[39m         llm=llm,\n\u001B[32m     76\u001B[39m         prompt_template=prompt_template,\n\u001B[32m     77\u001B[39m     )\n\u001B[32m     78\u001B[39m \u001B[38;5;28;01mexcept\u001B[39;00m ValidationError \u001B[38;5;28;01mas\u001B[39;00m e:\n\u001B[32m---> \u001B[39m\u001B[32m79\u001B[39m     \u001B[38;5;28;01mraise\u001B[39;00m \u001B[43mRagInitializationError\u001B[49m\u001B[43m(\u001B[49m\u001B[43me\u001B[49m\u001B[43m.\u001B[49m\u001B[43merrors\u001B[49m\u001B[43m(\u001B[49m\u001B[43m)\u001B[49m\u001B[43m)\u001B[49m\n\u001B[32m     80\u001B[39m \u001B[38;5;28mself\u001B[39m.retriever = validated_data.retriever\n\u001B[32m     81\u001B[39m \u001B[38;5;28mself\u001B[39m.llm = validated_data.llm\n",
      "\u001B[36mFile \u001B[39m\u001B[32m~/PycharmProjects/graph_db_poc/venv/lib/python3.12/site-packages/neo4j_graphrag/exceptions.py:36\u001B[39m, in \u001B[36mRagInitializationError.__init__\u001B[39m\u001B[34m(self, errors)\u001B[39m\n\u001B[32m     35\u001B[39m \u001B[38;5;28;01mdef\u001B[39;00m\u001B[38;5;250m \u001B[39m\u001B[34m__init__\u001B[39m(\u001B[38;5;28mself\u001B[39m, errors: \u001B[38;5;28mlist\u001B[39m[ErrorDetails]):\n\u001B[32m---> \u001B[39m\u001B[32m36\u001B[39m     \u001B[38;5;28msuper\u001B[39m().\u001B[34m__init__\u001B[39m(\u001B[33mf\u001B[39m\u001B[33m\"\u001B[39m\u001B[33mInitialization failed: \u001B[39m\u001B[38;5;132;43;01m{\u001B[39;49;00m\u001B[43merrors\u001B[49m\u001B[38;5;132;43;01m}\u001B[39;49;00m\u001B[33m\"\u001B[39m)\n\u001B[32m     37\u001B[39m     \u001B[38;5;28mself\u001B[39m.errors = errors\n",
      "\u001B[36mFile \u001B[39m\u001B[32m~/PycharmProjects/graph_db_poc/venv/lib/python3.12/site-packages/pydantic/main.py:1195\u001B[39m, in \u001B[36mBaseModel.__repr__\u001B[39m\u001B[34m(self)\u001B[39m\n\u001B[32m   1194\u001B[39m \u001B[38;5;28;01mdef\u001B[39;00m\u001B[38;5;250m \u001B[39m\u001B[34m__repr__\u001B[39m(\u001B[38;5;28mself\u001B[39m) -> \u001B[38;5;28mstr\u001B[39m:\n\u001B[32m-> \u001B[39m\u001B[32m1195\u001B[39m     \u001B[38;5;28;01mreturn\u001B[39;00m \u001B[33mf\u001B[39m\u001B[33m'\u001B[39m\u001B[38;5;132;01m{\u001B[39;00m\u001B[38;5;28mself\u001B[39m.__repr_name__()\u001B[38;5;132;01m}\u001B[39;00m\u001B[33m(\u001B[39m\u001B[38;5;132;01m{\u001B[39;00m\u001B[38;5;28;43mself\u001B[39;49m\u001B[43m.\u001B[49m\u001B[43m__repr_str__\u001B[49m\u001B[43m(\u001B[49m\u001B[33;43m\"\u001B[39;49m\u001B[33;43m, \u001B[39;49m\u001B[33;43m\"\u001B[39;49m\u001B[43m)\u001B[49m\u001B[38;5;132;01m}\u001B[39;00m\u001B[33m)\u001B[39m\u001B[33m'\u001B[39m\n",
      "\u001B[36mFile \u001B[39m\u001B[32m~/PycharmProjects/graph_db_poc/venv/lib/python3.12/site-packages/pydantic/_internal/_repr.py:63\u001B[39m, in \u001B[36mRepresentation.__repr_str__\u001B[39m\u001B[34m(self, join_str)\u001B[39m\n\u001B[32m     62\u001B[39m \u001B[38;5;28;01mdef\u001B[39;00m\u001B[38;5;250m \u001B[39m\u001B[34m__repr_str__\u001B[39m(\u001B[38;5;28mself\u001B[39m, join_str: \u001B[38;5;28mstr\u001B[39m) -> \u001B[38;5;28mstr\u001B[39m:\n\u001B[32m---> \u001B[39m\u001B[32m63\u001B[39m     \u001B[38;5;28;01mreturn\u001B[39;00m \u001B[43mjoin_str\u001B[49m\u001B[43m.\u001B[49m\u001B[43mjoin\u001B[49m\u001B[43m(\u001B[49m\u001B[38;5;28;43mrepr\u001B[39;49m\u001B[43m(\u001B[49m\u001B[43mv\u001B[49m\u001B[43m)\u001B[49m\u001B[43m \u001B[49m\u001B[38;5;28;43;01mif\u001B[39;49;00m\u001B[43m \u001B[49m\u001B[43ma\u001B[49m\u001B[43m \u001B[49m\u001B[38;5;129;43;01mis\u001B[39;49;00m\u001B[43m \u001B[49m\u001B[38;5;28;43;01mNone\u001B[39;49;00m\u001B[43m \u001B[49m\u001B[38;5;28;43;01melse\u001B[39;49;00m\u001B[43m \u001B[49m\u001B[33;43mf\u001B[39;49m\u001B[33;43m'\u001B[39;49m\u001B[38;5;132;43;01m{\u001B[39;49;00m\u001B[43ma\u001B[49m\u001B[38;5;132;43;01m}\u001B[39;49;00m\u001B[33;43m=\u001B[39;49m\u001B[38;5;132;43;01m{\u001B[39;49;00m\u001B[43mv\u001B[49m\u001B[38;5;132;43;01m!r}\u001B[39;49;00m\u001B[33;43m'\u001B[39;49m\u001B[43m \u001B[49m\u001B[38;5;28;43;01mfor\u001B[39;49;00m\u001B[43m \u001B[49m\u001B[43ma\u001B[49m\u001B[43m,\u001B[49m\u001B[43m \u001B[49m\u001B[43mv\u001B[49m\u001B[43m \u001B[49m\u001B[38;5;129;43;01min\u001B[39;49;00m\u001B[43m \u001B[49m\u001B[38;5;28;43mself\u001B[39;49m\u001B[43m.\u001B[49m\u001B[43m__repr_args__\u001B[49m\u001B[43m(\u001B[49m\u001B[43m)\u001B[49m\u001B[43m)\u001B[49m\n",
      "\u001B[36mFile \u001B[39m\u001B[32m~/PycharmProjects/graph_db_poc/venv/lib/python3.12/site-packages/pydantic/_internal/_repr.py:63\u001B[39m, in \u001B[36m<genexpr>\u001B[39m\u001B[34m(.0)\u001B[39m\n\u001B[32m     62\u001B[39m \u001B[38;5;28;01mdef\u001B[39;00m\u001B[38;5;250m \u001B[39m\u001B[34m__repr_str__\u001B[39m(\u001B[38;5;28mself\u001B[39m, join_str: \u001B[38;5;28mstr\u001B[39m) -> \u001B[38;5;28mstr\u001B[39m:\n\u001B[32m---> \u001B[39m\u001B[32m63\u001B[39m     \u001B[38;5;28;01mreturn\u001B[39;00m join_str.join(\u001B[38;5;28mrepr\u001B[39m(v) \u001B[38;5;28;01mif\u001B[39;00m a \u001B[38;5;129;01mis\u001B[39;00m \u001B[38;5;28;01mNone\u001B[39;00m \u001B[38;5;28;01melse\u001B[39;00m \u001B[33mf\u001B[39m\u001B[33m'\u001B[39m\u001B[38;5;132;01m{\u001B[39;00ma\u001B[38;5;132;01m}\u001B[39;00m\u001B[33m=\u001B[39m\u001B[38;5;132;43;01m{\u001B[39;49;00m\u001B[43mv\u001B[49m\u001B[38;5;132;43;01m!r}\u001B[39;49;00m\u001B[33m'\u001B[39m \u001B[38;5;28;01mfor\u001B[39;00m a, v \u001B[38;5;129;01min\u001B[39;00m \u001B[38;5;28mself\u001B[39m.__repr_args__())\n",
      "\u001B[36mFile \u001B[39m\u001B[32m~/PycharmProjects/graph_db_poc/venv/lib/python3.12/site-packages/pydantic/main.py:1195\u001B[39m, in \u001B[36mBaseModel.__repr__\u001B[39m\u001B[34m(self)\u001B[39m\n\u001B[32m   1194\u001B[39m \u001B[38;5;28;01mdef\u001B[39;00m\u001B[38;5;250m \u001B[39m\u001B[34m__repr__\u001B[39m(\u001B[38;5;28mself\u001B[39m) -> \u001B[38;5;28mstr\u001B[39m:\n\u001B[32m-> \u001B[39m\u001B[32m1195\u001B[39m     \u001B[38;5;28;01mreturn\u001B[39;00m \u001B[33mf\u001B[39m\u001B[33m'\u001B[39m\u001B[38;5;132;01m{\u001B[39;00m\u001B[38;5;28mself\u001B[39m.__repr_name__()\u001B[38;5;132;01m}\u001B[39;00m\u001B[33m(\u001B[39m\u001B[38;5;132;01m{\u001B[39;00m\u001B[38;5;28;43mself\u001B[39;49m\u001B[43m.\u001B[49m\u001B[43m__repr_str__\u001B[49m\u001B[43m(\u001B[49m\u001B[33;43m\"\u001B[39;49m\u001B[33;43m, \u001B[39;49m\u001B[33;43m\"\u001B[39;49m\u001B[43m)\u001B[49m\u001B[38;5;132;01m}\u001B[39;00m\u001B[33m)\u001B[39m\u001B[33m'\u001B[39m\n",
      "\u001B[36mFile \u001B[39m\u001B[32m~/PycharmProjects/graph_db_poc/venv/lib/python3.12/site-packages/pydantic/_internal/_repr.py:63\u001B[39m, in \u001B[36mRepresentation.__repr_str__\u001B[39m\u001B[34m(self, join_str)\u001B[39m\n\u001B[32m     62\u001B[39m \u001B[38;5;28;01mdef\u001B[39;00m\u001B[38;5;250m \u001B[39m\u001B[34m__repr_str__\u001B[39m(\u001B[38;5;28mself\u001B[39m, join_str: \u001B[38;5;28mstr\u001B[39m) -> \u001B[38;5;28mstr\u001B[39m:\n\u001B[32m---> \u001B[39m\u001B[32m63\u001B[39m     \u001B[38;5;28;01mreturn\u001B[39;00m join_str.join(\u001B[38;5;28mrepr\u001B[39m(v) \u001B[38;5;28;01mif\u001B[39;00m a \u001B[38;5;129;01mis\u001B[39;00m \u001B[38;5;28;01mNone\u001B[39;00m \u001B[38;5;28;01melse\u001B[39;00m \u001B[33mf\u001B[39m\u001B[33m'\u001B[39m\u001B[38;5;132;01m{\u001B[39;00ma\u001B[38;5;132;01m}\u001B[39;00m\u001B[33m=\u001B[39m\u001B[38;5;132;01m{\u001B[39;00mv\u001B[38;5;132;01m!r}\u001B[39;00m\u001B[33m'\u001B[39m \u001B[38;5;28;01mfor\u001B[39;00m a, v \u001B[38;5;129;01min\u001B[39;00m \u001B[38;5;28;43mself\u001B[39;49m\u001B[43m.\u001B[49m\u001B[43m__repr_args__\u001B[49m\u001B[43m(\u001B[49m\u001B[43m)\u001B[49m)\n",
      "\u001B[36mFile \u001B[39m\u001B[32m~/PycharmProjects/graph_db_poc/venv/lib/python3.12/site-packages/langchain_core/load/serializable.py:191\u001B[39m, in \u001B[36mSerializable.__repr_args__\u001B[39m\u001B[34m(self)\u001B[39m\n\u001B[32m    190\u001B[39m \u001B[38;5;28;01mdef\u001B[39;00m\u001B[38;5;250m \u001B[39m\u001B[34m__repr_args__\u001B[39m(\u001B[38;5;28mself\u001B[39m) -> Any:\n\u001B[32m--> \u001B[39m\u001B[32m191\u001B[39m     \u001B[38;5;28;01mreturn\u001B[39;00m \u001B[43m[\u001B[49m\n\u001B[32m    192\u001B[39m \u001B[43m        \u001B[49m\u001B[43m(\u001B[49m\u001B[43mk\u001B[49m\u001B[43m,\u001B[49m\u001B[43m \u001B[49m\u001B[43mv\u001B[49m\u001B[43m)\u001B[49m\n\u001B[32m    193\u001B[39m \u001B[43m        \u001B[49m\u001B[38;5;28;43;01mfor\u001B[39;49;00m\u001B[43m \u001B[49m\u001B[43mk\u001B[49m\u001B[43m,\u001B[49m\u001B[43m \u001B[49m\u001B[43mv\u001B[49m\u001B[43m \u001B[49m\u001B[38;5;129;43;01min\u001B[39;49;00m\u001B[43m \u001B[49m\u001B[38;5;28;43msuper\u001B[39;49m\u001B[43m(\u001B[49m\u001B[43m)\u001B[49m\u001B[43m.\u001B[49m\u001B[43m__repr_args__\u001B[49m\u001B[43m(\u001B[49m\u001B[43m)\u001B[49m\n\u001B[32m    194\u001B[39m \u001B[43m        \u001B[49m\u001B[38;5;28;43;01mif\u001B[39;49;00m\u001B[43m \u001B[49m\u001B[43m(\u001B[49m\u001B[43mk\u001B[49m\u001B[43m \u001B[49m\u001B[38;5;129;43;01mnot\u001B[39;49;00m\u001B[43m \u001B[49m\u001B[38;5;129;43;01min\u001B[39;49;00m\u001B[43m \u001B[49m\u001B[38;5;28;43mself\u001B[39;49m\u001B[43m.\u001B[49m\u001B[43mmodel_fields\u001B[49m\u001B[43m \u001B[49m\u001B[38;5;129;43;01mor\u001B[39;49;00m\u001B[43m \u001B[49m\u001B[43mtry_neq_default\u001B[49m\u001B[43m(\u001B[49m\u001B[43mv\u001B[49m\u001B[43m,\u001B[49m\u001B[43m \u001B[49m\u001B[43mk\u001B[49m\u001B[43m,\u001B[49m\u001B[43m \u001B[49m\u001B[38;5;28;43mself\u001B[39;49m\u001B[43m)\u001B[49m\u001B[43m)\u001B[49m\n\u001B[32m    195\u001B[39m \u001B[43m    \u001B[49m\u001B[43m]\u001B[49m\n",
      "\u001B[36mFile \u001B[39m\u001B[32m~/PycharmProjects/graph_db_poc/venv/lib/python3.12/site-packages/pydantic/main.py:1202\u001B[39m, in \u001B[36mBaseModel.__repr_args__\u001B[39m\u001B[34m(self)\u001B[39m\n\u001B[32m   1197\u001B[39m \u001B[38;5;28;01mdef\u001B[39;00m\u001B[38;5;250m \u001B[39m\u001B[34m__repr_args__\u001B[39m(\u001B[38;5;28mself\u001B[39m) -> _repr.ReprArgs:\n\u001B[32m   1198\u001B[39m     \u001B[38;5;66;03m# Eagerly create the repr of computed fields, as this may trigger access of cached properties and as such\u001B[39;00m\n\u001B[32m   1199\u001B[39m     \u001B[38;5;66;03m# modify the instance's `__dict__`. If we don't do it now, it could happen when iterating over the `__dict__`\u001B[39;00m\n\u001B[32m   1200\u001B[39m     \u001B[38;5;66;03m# below if the instance happens to be referenced in a field, and would modify the `__dict__` size *during* iteration.\u001B[39;00m\n\u001B[32m   1201\u001B[39m     computed_fields_repr_args = [\n\u001B[32m-> \u001B[39m\u001B[32m1202\u001B[39m         (k, \u001B[38;5;28;43mgetattr\u001B[39;49m\u001B[43m(\u001B[49m\u001B[38;5;28;43mself\u001B[39;49m\u001B[43m,\u001B[49m\u001B[43m \u001B[49m\u001B[43mk\u001B[49m\u001B[43m)\u001B[49m) \u001B[38;5;28;01mfor\u001B[39;00m k, v \u001B[38;5;129;01min\u001B[39;00m \u001B[38;5;28mself\u001B[39m.__pydantic_computed_fields__.items() \u001B[38;5;28;01mif\u001B[39;00m v.repr\n\u001B[32m   1203\u001B[39m     ]\n\u001B[32m   1205\u001B[39m     \u001B[38;5;28;01mfor\u001B[39;00m k, v \u001B[38;5;129;01min\u001B[39;00m \u001B[38;5;28mself\u001B[39m.\u001B[34m__dict__\u001B[39m.items():\n\u001B[32m   1206\u001B[39m         field = \u001B[38;5;28mself\u001B[39m.__pydantic_fields__.get(k)\n",
      "\u001B[36mFile \u001B[39m\u001B[32m~/.pyenv/versions/3.12.3/lib/python3.12/functools.py:995\u001B[39m, in \u001B[36mcached_property.__get__\u001B[39m\u001B[34m(self, instance, owner)\u001B[39m\n\u001B[32m    993\u001B[39m val = cache.get(\u001B[38;5;28mself\u001B[39m.attrname, _NOT_FOUND)\n\u001B[32m    994\u001B[39m \u001B[38;5;28;01mif\u001B[39;00m val \u001B[38;5;129;01mis\u001B[39;00m _NOT_FOUND:\n\u001B[32m--> \u001B[39m\u001B[32m995\u001B[39m     val = \u001B[38;5;28;43mself\u001B[39;49m\u001B[43m.\u001B[49m\u001B[43mfunc\u001B[49m\u001B[43m(\u001B[49m\u001B[43minstance\u001B[49m\u001B[43m)\u001B[49m\n\u001B[32m    996\u001B[39m     \u001B[38;5;28;01mtry\u001B[39;00m:\n\u001B[32m    997\u001B[39m         cache[\u001B[38;5;28mself\u001B[39m.attrname] = val\n",
      "\u001B[36mFile \u001B[39m\u001B[32m~/PycharmProjects/graph_db_poc/venv/lib/python3.12/site-packages/langchain_graph_retriever/graph_retriever.py:80\u001B[39m, in \u001B[36mGraphRetriever.adapter\u001B[39m\u001B[34m(self)\u001B[39m\n\u001B[32m     76\u001B[39m \u001B[38;5;129m@computed_field\u001B[39m  \u001B[38;5;66;03m# type: ignore\u001B[39;00m\n\u001B[32m     77\u001B[39m \u001B[38;5;129m@cached_property\u001B[39m\n\u001B[32m     78\u001B[39m \u001B[38;5;28;01mdef\u001B[39;00m\u001B[38;5;250m \u001B[39m\u001B[34madapter\u001B[39m(\u001B[38;5;28mself\u001B[39m) -> Adapter:\n\u001B[32m     79\u001B[39m \u001B[38;5;250m    \u001B[39m\u001B[33;03m\"\"\"The adapter to use during traversals.\"\"\"\u001B[39;00m\n\u001B[32m---> \u001B[39m\u001B[32m80\u001B[39m     \u001B[38;5;28;01mreturn\u001B[39;00m \u001B[43minfer_adapter\u001B[49m\u001B[43m(\u001B[49m\u001B[38;5;28;43mself\u001B[39;49m\u001B[43m.\u001B[49m\u001B[43mstore\u001B[49m\u001B[43m)\u001B[49m\n",
      "\u001B[36mFile \u001B[39m\u001B[32m~/PycharmProjects/graph_db_poc/venv/lib/python3.12/site-packages/langchain_graph_retriever/adapters/inference.py:89\u001B[39m, in \u001B[36minfer_adapter\u001B[39m\u001B[34m(store)\u001B[39m\n\u001B[32m     86\u001B[39m \u001B[38;5;28;01mif\u001B[39;00m \u001B[38;5;28misinstance\u001B[39m(store, Adapter):\n\u001B[32m     87\u001B[39m     \u001B[38;5;28;01mreturn\u001B[39;00m store\n\u001B[32m---> \u001B[39m\u001B[32m89\u001B[39m module_name, class_name = \u001B[43m_infer_adapter_name\u001B[49m\u001B[43m(\u001B[49m\u001B[43mstore\u001B[49m\u001B[43m.\u001B[49m\u001B[34;43m__class__\u001B[39;49m\u001B[43m)\u001B[49m\n\u001B[32m     90\u001B[39m adapter_module = importlib.import_module(module_name)\n\u001B[32m     91\u001B[39m adapter_class = \u001B[38;5;28mgetattr\u001B[39m(adapter_module, class_name)\n",
      "\u001B[36mFile \u001B[39m\u001B[32m~/PycharmProjects/graph_db_poc/venv/lib/python3.12/site-packages/langchain_graph_retriever/adapters/inference.py:64\u001B[39m, in \u001B[36m_infer_adapter_name\u001B[39m\u001B[34m(cls)\u001B[39m\n\u001B[32m     61\u001B[39m     store_classes.extend(store_class.\u001B[34m__bases__\u001B[39m)\n\u001B[32m     63\u001B[39m store_class_name = _full_class_name(\u001B[38;5;28mcls\u001B[39m)\n\u001B[32m---> \u001B[39m\u001B[32m64\u001B[39m \u001B[38;5;28;01mraise\u001B[39;00m \u001B[38;5;167;01mValueError\u001B[39;00m(\n\u001B[32m     65\u001B[39m     \u001B[33mf\u001B[39m\u001B[33m\"\u001B[39m\u001B[33mExpected adapter or supported vector store, but got \u001B[39m\u001B[38;5;132;01m{\u001B[39;00mstore_class_name\u001B[38;5;132;01m}\u001B[39;00m\u001B[33m\"\u001B[39m\n\u001B[32m     66\u001B[39m )\n",
      "\u001B[31mValueError\u001B[39m: Expected adapter or supported vector store, but got langchain_neo4j.vectorstores.neo4j_vector.Neo4jVector"
     ]
    }
   ],
   "execution_count": 46
  },
  {
   "metadata": {
    "ExecuteTime": {
     "end_time": "2025-04-03T03:46:40.372217Z",
     "start_time": "2025-04-03T03:46:35.649114Z"
    }
   },
   "cell_type": "code",
   "source": [
    "# Text2Cypher Retriever\n",
    "from neo4j_graphrag.retrievers import Text2CypherRetriever\n",
    "from neo4j_graphrag.generation import GraphRAG, RagTemplate\n",
    "\n",
    "product_schema = {\n",
    "    \"label\": \"Service\",\n",
    "    \"properties\": [\n",
    "        {\"name\": \"id\", \"type\": \"string\"},\n",
    "    ]\n",
    "}\n",
    "\n",
    "price_schema = {\n",
    "    \"label\": \"Price\",\n",
    "    \"properties\": [\n",
    "        {\"name\": \"id\", \"type\": \"string\"},\n",
    "    ]\n",
    "}\n",
    "\n",
    "has_price_schema = {\n",
    "    \"type\": \"HAS_PRICE\",\n",
    "    \"source\": \"Product\",\n",
    "    \"target\": \"Price\"\n",
    "}\n",
    "\n",
    "\n",
    "neo4j_schema ={\n",
    "    \"nodes\": [product_schema, price_schema],\n",
    "    \"relationships\": [has_price_schema]\n",
    "}\n",
    "\n",
    "text2cypher_retriever = Text2CypherRetriever(\n",
    "    driver=neo4j_driver,\n",
    "    llm=llm,\n",
    "    neo4j_schema=str(neo4j_schema)\n",
    ")\n",
    "\n",
    "text2cypher_rag = GraphRAG(\n",
    "    llm=llm,\n",
    "    retriever=text2cypher_retriever,\n",
    "    prompt_template=prompt_template\n",
    ")\n",
    "\n",
    "result = text2cypher_rag.search(\n",
    "    \"티빙 베이직 가격 알려줘\",\n",
    "    return_context=True\n",
    ")\n",
    "result"
   ],
   "id": "c1a7d1da1ffacd9d",
   "outputs": [
    {
     "name": "stdout",
     "output_type": "stream",
     "text": [
      "HTTP Request: POST https://api.openai.com/v1/chat/completions \"HTTP/1.1 200 OK\"\n",
      "HTTP Request: POST https://api.openai.com/v1/chat/completions \"HTTP/1.1 200 OK\"\n",
      "HTTP Request: POST https://api.openai.com/v1/chat/completions \"HTTP/1.1 200 OK\"\n",
      "HTTP Request: POST https://api.openai.com/v1/chat/completions \"HTTP/1.1 200 OK\"\n",
      "HTTP Request: POST https://api.openai.com/v1/chat/completions \"HTTP/1.1 200 OK\"\n",
      "HTTP Request: POST https://api.openai.com/v1/chat/completions \"HTTP/1.1 200 OK\"\n",
      "HTTP Request: POST https://api.openai.com/v1/chat/completions \"HTTP/1.1 200 OK\"\n",
      "HTTP Request: POST https://api.openai.com/v1/chat/completions \"HTTP/1.1 200 OK\"\n",
      "HTTP Request: POST https://api.openai.com/v1/chat/completions \"HTTP/1.1 200 OK\"\n",
      "HTTP Request: POST https://api.openai.com/v1/chat/completions \"HTTP/1.1 200 OK\"\n",
      "HTTP Request: POST https://api.openai.com/v1/chat/completions \"HTTP/1.1 200 OK\"\n",
      "HTTP Request: POST https://api.openai.com/v1/chat/completions \"HTTP/1.1 200 OK\"\n"
     ]
    },
    {
     "data": {
      "text/plain": [
       "RagResultModel(answer='티빙 베이직 요금제의 가격은 월 9,500원입니다. 이 요금제는 티빙의 기본적인 콘텐츠를 이용할 수 있는 플랜으로, 다양한 드라마, 영화, 예능 프로그램 등을 시청할 수 있습니다. 티빙은 한국의 대표적인 OTT(Over-The-Top) 서비스 중 하나로, 다양한 장르의 콘텐츠를 제공하여 많은 사용자들에게 인기를 끌고 있습니다. 요금제에 대한 더 자세한 정보나 다른 플랜에 대한 비교가 필요하시면 추가로 문의해 주세요.', retriever_result=RetrieverResult(items=[RetrieverResultItem(content=\"<Record p=<Node element_id='4:e91334ed-cf36-4fa8-a84c-5afca4e086d3:1012' labels=frozenset({'__Entity__', 'Price'}) properties={'id': '월 9,500원'}>>\", metadata=None)], metadata={'cypher': \"MATCH (s:Service {id: '티빙 베이직'})-[:HAS_PRICE]->(p:Price) RETURN p\", '__retriever': 'Text2CypherRetriever'}))"
      ]
     },
     "execution_count": 53,
     "metadata": {},
     "output_type": "execute_result"
    }
   ],
   "execution_count": 53
  },
  {
   "metadata": {},
   "cell_type": "code",
   "outputs": [],
   "execution_count": null,
   "source": "",
   "id": "1f6f29e76514bcdc"
  }
 ],
 "metadata": {
  "kernelspec": {
   "display_name": "Python 3",
   "language": "python",
   "name": "python3"
  },
  "language_info": {
   "codemirror_mode": {
    "name": "ipython",
    "version": 2
   },
   "file_extension": ".py",
   "mimetype": "text/x-python",
   "name": "python",
   "nbconvert_exporter": "python",
   "pygments_lexer": "ipython2",
   "version": "2.7.6"
  }
 },
 "nbformat": 4,
 "nbformat_minor": 5
}
